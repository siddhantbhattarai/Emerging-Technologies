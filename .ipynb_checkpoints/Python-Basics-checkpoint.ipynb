{
 "cells": [
  {
   "cell_type": "markdown",
   "id": "cde68ba8-070c-48a6-aea4-671a2bbfd742",
   "metadata": {},
   "source": [
    "#### Python Crash Course\n",
    "This notebook will just go through the basic topics in order:\n",
    "- What is Python?\n",
    "  - Python is a computer programming language often used to build websites and software, automate tasks, and analyze data. Python is a general-purpose language, not specialized for any specific problems, and used to create various programmes.\n",
    "- Print Statements\n",
    "- Data types\n",
    "    - Numbers\n",
    "    - Strings\n",
    "    - Lists\n",
    "    - Dictionaries\n",
    "    - Booleans\n",
    "    - Tuples\n",
    "    - Sets\n",
    "- Comparison Operators\n",
    "- if,elif, else Statements\n",
    "- for Loops\n",
    "- while Loops\n",
    "- range()\n",
    "- list comprehension\n",
    "- functions\n",
    "- lambda expressions\n",
    "- map and filter\n",
    "- methods\n"
   ]
  },
  {
   "cell_type": "markdown",
   "id": "84bde55e-a5e6-4710-9b47-d2067747d1da",
   "metadata": {},
   "source": [
    "**1. Print Statements**"
   ]
  },
  {
   "cell_type": "code",
   "execution_count": 2,
   "id": "5a6e39df-0bc9-45c4-b042-f6acd127bbda",
   "metadata": {},
   "outputs": [
    {
     "name": "stdout",
     "output_type": "stream",
     "text": [
      "WARNING: Unauthorized access is prohibited!\n"
     ]
    }
   ],
   "source": [
    "print(\"WARNING: Unauthorized access is prohibited!\")"
   ]
  },
  {
   "cell_type": "code",
   "execution_count": 4,
   "id": "ab9edf59-14b8-4c02-924b-245268480f5a",
   "metadata": {},
   "outputs": [
    {
     "name": "stdout",
     "output_type": "stream",
     "text": [
      "Logged in user: Siddhant\n"
     ]
    }
   ],
   "source": [
    "# Variables: Store and print a username using string formatting method\n",
    "name = \"Siddhant\"\n",
    "print(f\"Logged in user: {name}\")"
   ]
  },
  {
   "cell_type": "code",
   "execution_count": 6,
   "id": "0f05db4d-0b80-44db-ba08-1734330204da",
   "metadata": {},
   "outputs": [
    {
     "name": "stdout",
     "output_type": "stream",
     "text": [
      "The password of wifi for Admin user is London12#3.\n"
     ]
    }
   ],
   "source": [
    "# Let's print the statement with format method\n",
    "username = \"Admin\"\n",
    "password = \"London12#3\"\n",
    "print(\"The password of wifi for {} user is {}.\" .format(username, password))"
   ]
  },
  {
   "cell_type": "code",
   "execution_count": 7,
   "id": "fbae779f-2a05-409e-8393-f84fcd5532ed",
   "metadata": {},
   "outputs": [
    {
     "name": "stdout",
     "output_type": "stream",
     "text": [
      "Rupesh is 24 years old.\n"
     ]
    }
   ],
   "source": [
    "# Using concatenation method\n",
    "name = \"Rupesh\"\n",
    "age = 24\n",
    "print(name + \" is \" +str(age) + \" years old.\")"
   ]
  },
  {
   "cell_type": "code",
   "execution_count": 8,
   "id": "c7a20848-9974-4a8d-86dd-8c93bd9d2c89",
   "metadata": {},
   "outputs": [
    {
     "name": "stdout",
     "output_type": "stream",
     "text": [
      "Rupa is 21 years old.\n"
     ]
    }
   ],
   "source": [
    "# Using older % string formatting method\n",
    "name = \"Rupa\"\n",
    "age = 21\n",
    "print(\"%s is %d years old.\" %(name,age))"
   ]
  },
  {
   "cell_type": "code",
   "execution_count": 10,
   "id": "1e715ab6-2e29-46af-93e7-dd6b4ef46734",
   "metadata": {},
   "outputs": [
    {
     "name": "stdout",
     "output_type": "stream",
     "text": [
      "Enter your facebook password:  london12#3\n",
      "Password received. Never share your password!\n"
     ]
    }
   ],
   "source": [
    "# Input: Ask for a password\n",
    "password = input(\"Enter your facebook password: \")\n",
    "print(\"Password received. Never share your password!\")"
   ]
  },
  {
   "cell_type": "code",
   "execution_count": 12,
   "id": "37bc7566-41c6-454f-8c30-347a1608d8c5",
   "metadata": {},
   "outputs": [
    {
     "name": "stdout",
     "output_type": "stream",
     "text": [
      "Enter the password:  london12#3\n",
      "Access denied.\n"
     ]
    }
   ],
   "source": [
    "# Conditional: Simple password checker\n",
    "correct_password = \"SecurePass12#3\"\n",
    "user_password = input(\"Enter the password: \")\n",
    "if user_password == correct_password:\n",
    "    print(\"Access granted.\")\n",
    "else:\n",
    "    print(\"Access denied.\")"
   ]
  },
  {
   "cell_type": "code",
   "execution_count": 13,
   "id": "1bdc535c-97ff-47c7-85f0-b16f95192a80",
   "metadata": {},
   "outputs": [
    {
     "data": {
      "text/plain": [
       "'SecurePass12#3'"
      ]
     },
     "execution_count": 13,
     "metadata": {},
     "output_type": "execute_result"
    }
   ],
   "source": [
    "correct_password"
   ]
  },
  {
   "cell_type": "markdown",
   "id": "7a9fbf45-b05c-498b-9cfc-cd726ab7fce0",
   "metadata": {},
   "source": [
    "**2. Data Types**\n",
    "- What is Data Types?\n",
    "   - They determine the type of values variables can hold and specify the operations that can be performed on those values. For instance, Python has several built-in data types, including numeric types (int, float, complex), string (str), boolean (bool), and collection types (list, tuple, dict, set)."
   ]
  },
  {
   "cell_type": "markdown",
   "id": "90d84781-875e-4e27-b7ee-b2deb06b880a",
   "metadata": {},
   "source": [
    "**2.1 Working with Numbers**"
   ]
  },
  {
   "cell_type": "code",
   "execution_count": 16,
   "id": "9f8f0de3-4fb6-4c69-b40e-a4ff15bdeb49",
   "metadata": {},
   "outputs": [
    {
     "name": "stdout",
     "output_type": "stream",
     "text": [
      "The addition of 50 and 10 is 60.\n",
      "The subtraction of 50 from 10 is -40.\n",
      "The multiplication of 50 and 10 is 500.\n",
      "The division of 50 from 10 is 0.2.\n",
      "The reminder of 50 from 10 is 10.\n"
     ]
    }
   ],
   "source": [
    "x = 50\n",
    "y = 10\n",
    "print(f\"The addition of {x} and {y} is {x+y}.\")\n",
    "print(f\"The subtraction of {x} from {y} is {y-x}.\")\n",
    "print(f\"The multiplication of {x} and {y} is {x*y}.\")\n",
    "print(f\"The division of {x} from {y} is {y/x}.\")\n",
    "print(f\"The reminder of {x} from {y} is {y%x}.\")"
   ]
  },
  {
   "cell_type": "markdown",
   "id": "52e0517b-1fe9-4c03-9706-31f6f4b97a43",
   "metadata": {},
   "source": [
    "**2.2 Working with strings**"
   ]
  },
  {
   "cell_type": "code",
   "execution_count": 17,
   "id": "bedcc89d-222d-4428-9c35-c80fbfa18158",
   "metadata": {},
   "outputs": [
    {
     "name": "stdout",
     "output_type": "stream",
     "text": [
      "Single Quoted String is:  Python is Awesome!!\n"
     ]
    }
   ],
   "source": [
    "# working with single quoted string\n",
    "single_quoted_string = 'Python is Awesome!!'\n",
    "print(\"Single Quoted String is: \", single_quoted_string)"
   ]
  },
  {
   "cell_type": "code",
   "execution_count": 19,
   "id": "e42a789e-78bc-4f5b-b219-2f18de9cc659",
   "metadata": {},
   "outputs": [
    {
     "name": "stdout",
     "output_type": "stream",
     "text": [
      "Double Quoted String: I am learning Python!!\n"
     ]
    }
   ],
   "source": [
    "# Working with double quoted string\n",
    "double_quoted_string = \"I am learning Python!!\"\n",
    "print(\"Double Quoted String:\", double_quoted_string)"
   ]
  },
  {
   "cell_type": "code",
   "execution_count": 20,
   "id": "a205da19-85fb-481a-82a0-184a51464e97",
   "metadata": {},
   "outputs": [
    {
     "name": "stdout",
     "output_type": "stream",
     "text": [
      "Concatenated string is:  Python is Awesome!! I am learning Python!!\n"
     ]
    }
   ],
   "source": [
    "# String Concatenation \n",
    "concatenated_string = single_quoted_string + ' ' + double_quoted_string\n",
    "print(\"Concatenated string is: \", concatenated_string)"
   ]
  },
  {
   "cell_type": "code",
   "execution_count": 21,
   "id": "2aba5de3-9cff-4494-9f03-c047ff13a0cd",
   "metadata": {},
   "outputs": [
    {
     "name": "stdout",
     "output_type": "stream",
     "text": [
      "PYTHON IS AWESOME!! I AM LEARNING PYTHON!!\n",
      "python is awesome!! i am learning python!!\n"
     ]
    }
   ],
   "source": [
    "# String methods\n",
    "uppercase_string = concatenated_string.upper()\n",
    "print(uppercase_string)\n",
    "lowercase_string = concatenated_string.lower()\n",
    "print(lowercase_string)"
   ]
  },
  {
   "cell_type": "code",
   "execution_count": 29,
   "id": "bc7fabd6-5273-4d52-8745-60a2dfca50c9",
   "metadata": {},
   "outputs": [
    {
     "name": "stdout",
     "output_type": "stream",
     "text": [
      "Slice word is: rsity\n"
     ]
    }
   ],
   "source": [
    "# String slicing examples\n",
    "word = \"University of Sundarland\"\n",
    "slice_word = word[5:10]\n",
    "print(\"Slice word is:\", slice_word)"
   ]
  },
  {
   "cell_type": "code",
   "execution_count": 27,
   "id": "35263b25-19a0-4df4-be35-b2b71e2e217c",
   "metadata": {},
   "outputs": [
    {
     "name": "stdout",
     "output_type": "stream",
     "text": [
      "Word with space:   University of Sundarland  \n",
      "Words without leading and trailing spaces: University of Sundarland\n"
     ]
    }
   ],
   "source": [
    "# Remove leading and trailing spaces\n",
    "word_with_spaces = \"  University of Sundarland  \"\n",
    "print(\"Word with space:\",word_with_spaces)\n",
    "cleaned_words = word_with_spaces.strip()\n",
    "print(\"Words without leading and trailing spaces:\", cleaned_words)"
   ]
  },
  {
   "cell_type": "markdown",
   "id": "ebfdf065-2025-4c49-97e4-1e1ec917fa39",
   "metadata": {},
   "source": [
    "**2.3 Working with lists**\n",
    "- A list is a data structure in Python that is a mutable, or changeable, ordered sequence of elements. Each element or value that is inside of a list is called an item. Just as strings are defined as characters between quotes, lists are defined by having values between square brackets [ ] ."
   ]
  },
  {
   "cell_type": "code",
   "execution_count": 30,
   "id": "bdfae644-baa7-4cf3-a741-0b8bdb0d4dc9",
   "metadata": {},
   "outputs": [
    {
     "name": "stdout",
     "output_type": "stream",
     "text": [
      "Common ports: [80, 443, 22, 21, 3306]\n"
     ]
    }
   ],
   "source": [
    "# Lists: Store and print a list of common ports\n",
    "common_ports = [80, 443, 22, 21, 3306]\n",
    "print(\"Common ports:\", common_ports)"
   ]
  },
  {
   "cell_type": "code",
   "execution_count": 31,
   "id": "7be0012c-ad42-4735-8e0a-1384240cf5f9",
   "metadata": {},
   "outputs": [
    {
     "name": "stdout",
     "output_type": "stream",
     "text": [
      "Port 80 is commonly used.\n",
      "Port 443 is commonly used.\n",
      "Port 22 is commonly used.\n",
      "Port 21 is commonly used.\n",
      "Port 3306 is commonly used.\n"
     ]
    }
   ],
   "source": [
    "# For Loop: Print each port from above list\n",
    "for port in common_ports:\n",
    "    print(f\"Port {port} is commonly used.\")"
   ]
  },
  {
   "cell_type": "code",
   "execution_count": 32,
   "id": "0cb9d8d0-1e31-4489-a15b-98c9f02bd237",
   "metadata": {},
   "outputs": [
    {
     "name": "stdout",
     "output_type": "stream",
     "text": [
      "The Os Lists:  ['Kali', 'Ubuntu', 'Macos', 'Windows', 'Redhat', 'Fedora', 'Parrotos']\n"
     ]
    }
   ],
   "source": [
    "OS_list = [\"Kali\", \"Ubuntu\", \"Macos\", \"Windows\", \"Redhat\", \"Fedora\", \"Parrotos\"]\n",
    "print(\"The Os Lists: \", OS_list)"
   ]
  },
  {
   "cell_type": "code",
   "execution_count": 39,
   "id": "6762b1fc-def5-4527-a566-00b9208953cb",
   "metadata": {},
   "outputs": [
    {
     "name": "stdout",
     "output_type": "stream",
     "text": [
      "The length of word is:  7\n"
     ]
    }
   ],
   "source": [
    "# Checking the length of list\n",
    "print(\"The length of word is: \", len(OS_list))"
   ]
  },
  {
   "cell_type": "code",
   "execution_count": 40,
   "id": "bb2d24ee-d424-49b3-8bfe-4509c11b3ba3",
   "metadata": {},
   "outputs": [
    {
     "name": "stdout",
     "output_type": "stream",
     "text": [
      "<class 'list'>\n"
     ]
    }
   ],
   "source": [
    "# Checking the data types\n",
    "print(type(OS_list))"
   ]
  },
  {
   "cell_type": "code",
   "execution_count": 34,
   "id": "ceb09fdb-3100-4817-bd82-7aa0162ebc87",
   "metadata": {},
   "outputs": [
    {
     "name": "stdout",
     "output_type": "stream",
     "text": [
      "Print your favourite OS:  Ubuntu\n"
     ]
    }
   ],
   "source": [
    "# Indexing\n",
    "print(\"Print your favourite OS: \", OS_list[1])"
   ]
  },
  {
   "cell_type": "code",
   "execution_count": 38,
   "id": "81762370-c802-49de-aea8-d705b175d55b",
   "metadata": {},
   "outputs": [
    {
     "name": "stdout",
     "output_type": "stream",
     "text": [
      "Kali, Arch\n"
     ]
    }
   ],
   "source": [
    "# Replace a OS in the word list\n",
    "OS_list_1 = \"Kali, Windows\"\n",
    "updated_OS_list = OS_list_1.replace(\"Windows\", \"Arch\")\n",
    "print(updated_OS_list)"
   ]
  },
  {
   "cell_type": "markdown",
   "id": "a0c129d8-28fc-484d-aaaf-87c91b64d524",
   "metadata": {},
   "source": [
    "### Assignment I:\n",
    "\n",
    "### Print Statements\n",
    "1. Write a Python program to print \"Hello, World!\".\n",
    "2. Print your name using a print statement.\n",
    "3. Print the result of the following math operation: `5 + 7`.\n",
    "\n",
    "### Numbers\n",
    "4. Assign the number `10` to a variable called `a`, and print it.\n",
    "5. Perform the multiplication of `7` and `8`, store the result in a variable called `product`, and print `product`.\n",
    "6. Write a Python program to calculate the area of a rectangle with length `5` and width `3`, and print the result.\n",
    "\n",
    "### Strings\n",
    "7. Assign the string `\"Python\"` to a variable called `language` and print it.\n",
    "8. Concatenate two strings `\"Hello\"` and `\"World\"` with a space in between, and print the result.\n",
    "9. Write a Python program to print the length of the string `\"OpenAI\"`.\n",
    "\n",
    "### Lists\n",
    "10. Create a list with the numbers `1, 2, 3, 4, 5`, and print the list.\n",
    "11. Access and print the third element in the list `[10, 20, 30, 40, 50]`.\n",
    "12. Add the number `6` to the list `[1, 2, 3, 4, 5]`, and print the updated list.\n",
    "13. Remove the number `3` from the list `[1, 2, 3, 4, 5]`, and print the updated list.\n",
    "14. Write a Python program to find and print the sum of all numbers in the list `[4, 8, 15, 16, 23, 42]`.\n",
    "15. Create a list with any 3 string elements of your choice and print the list.\n"
   ]
  },
  {
   "cell_type": "markdown",
   "id": "4774ba70",
   "metadata": {},
   "source": [
    "**2.4 Working with Disctionary**\n",
    "- In Python, dictionaries are mutable data structures that allow you to store key-value pairs. Dictionary can be created using the dict() constructor or curly braces' {}'. Once you have created a dictionary, you can add, remove, or update elements using the methods dict. update(), dict. pop(), and dict."
   ]
  },
  {
   "cell_type": "code",
   "execution_count": 4,
   "id": "3323625c",
   "metadata": {},
   "outputs": [
    {
     "name": "stdout",
     "output_type": "stream",
     "text": [
      "{'Burger': 4, 'Fries': 2, 'Drink': 1}\n",
      "A Burger costs $4.\n"
     ]
    }
   ],
   "source": [
    "# Basic disctionary creation and value accsess\n",
    "menu = {\n",
    "    \"Burger\": 4,\n",
    "    \"Fries\": 2,\n",
    "    \"Drink\": 1\n",
    "}\n",
    "print(menu)\n",
    "print(f\"A Burger costs ${menu['Burger']}.\")"
   ]
  },
  {
   "cell_type": "code",
   "execution_count": 6,
   "id": "d44dd707",
   "metadata": {},
   "outputs": [
    {
     "name": "stdout",
     "output_type": "stream",
     "text": [
      "The capital city of Nepal is Kathmandu.\n"
     ]
    }
   ],
   "source": [
    "# Demonstrates: Using string as keys\n",
    "capitals_cities = {\n",
    "    \"USA\": \"Washington D.C\",\n",
    "    \"Nepal\": \"Kathmandu\",\n",
    "    \"France\": \"Paris\"\n",
    "}\n",
    "print(f\"The capital city of Nepal is {capitals_cities['Nepal']}.\")"
   ]
  },
  {
   "cell_type": "code",
   "execution_count": 9,
   "id": "8afa477c",
   "metadata": {},
   "outputs": [
    {
     "name": "stdout",
     "output_type": "stream",
     "text": [
      "{'Name': 'Krishna Basudev Yadav', 'id': 12345, 'Department': 'Management of world'}\n"
     ]
    }
   ],
   "source": [
    "# Demonstrates: Adding new keys-value pairs\n",
    "employee = {\n",
    "    \"Name\": \"Krishna Basudev Yadav\",\n",
    "    \"id\": 12345\n",
    "}\n",
    "employee[\"Department\"] = \"Management of world\"\n",
    "print(employee)    "
   ]
  },
  {
   "cell_type": "code",
   "execution_count": 13,
   "id": "4c3fbbea",
   "metadata": {},
   "outputs": [
    {
     "name": "stdout",
     "output_type": "stream",
     "text": [
      "{'the': 2, 'quick': 1, 'brown': 1, 'fox': 1, 'jumps': 1, 'over': 1, 'lazy': 1, 'dog': 1}\n"
     ]
    }
   ],
   "source": [
    "# Word Frequency Counter\n",
    "# Demonstrates: get() method and disctionary building\n",
    "text = \"the quick brown fox jumps over the lazy dog\"\n",
    "word_count = {}\n",
    "for word in text.split():\n",
    "    word_count[word] = word_count.get(word, 0) + 1\n",
    "print(word_count)"
   ]
  },
  {
   "cell_type": "code",
   "execution_count": 16,
   "id": "7e2436cc",
   "metadata": {},
   "outputs": [
    {
     "name": "stdout",
     "output_type": "stream",
     "text": [
      "Jonny not found.\n"
     ]
    }
   ],
   "source": [
    "# Demonstrates: Checking if a key exists\n",
    "phone_book = {\n",
    "    \"Alice\": \"977-1234567890\"\n",
    "}\n",
    "if \"Jonny\" in phone_book:\n",
    "    print(phone_book[\"Jonny\"])\n",
    "else:\n",
    "    print(\"Jonny not found.\")"
   ]
  },
  {
   "cell_type": "code",
   "execution_count": 18,
   "id": "608cb6ec",
   "metadata": {},
   "outputs": [
    {
     "name": "stdout",
     "output_type": "stream",
     "text": [
      "Total stocks: $20\n"
     ]
    }
   ],
   "source": [
    "# Demonstrate: Using values() method \n",
    "portfolio = {\n",
    "    \"Tesla\": 15,\n",
    "    \"Google\": 5\n",
    "}\n",
    "total_stocks = sum(portfolio.values())\n",
    "print(f\"Total stocks: ${total_stocks}\")"
   ]
  },
  {
   "cell_type": "code",
   "execution_count": 19,
   "id": "c1b10625",
   "metadata": {},
   "outputs": [
    {
     "name": "stdout",
     "output_type": "stream",
     "text": [
      "Title:Inception\n",
      "Director:Nolan\n",
      "Year:2010\n"
     ]
    }
   ],
   "source": [
    "# Demonstrates: items() method for iteration\n",
    "movie = {\n",
    "    \"Title\": \"Inception\",\n",
    "    \"Director\": \"Nolan\",\n",
    "    \"Year\": 2010\n",
    "}\n",
    "for key,value in movie.items():\n",
    "    print(f\"{key}:{value}\")"
   ]
  },
  {
   "cell_type": "code",
   "execution_count": 20,
   "id": "86ec60d2",
   "metadata": {},
   "outputs": [
    {
     "name": "stdout",
     "output_type": "stream",
     "text": [
      "Sold 12 bananas. Inventory: {'apples': 40, 'orange': 50}\n"
     ]
    }
   ],
   "source": [
    "# Demonstrates: update() and pop() methods\n",
    "inventory = {\n",
    "    \"apples\": 40,\n",
    "    \"bananas\": 12,\n",
    "}\n",
    "inventory.update({\"orange\": 50})\n",
    "sold = inventory.pop(\"bananas\")\n",
    "print(f\"Sold {sold} bananas. Inventory: {inventory}\")"
   ]
  },
  {
   "cell_type": "markdown",
   "id": "5f277398",
   "metadata": {},
   "source": [
    "**2.5 Working with Boolean**\n",
    "- A boolean is a data type with two possible values: true (1) or false (0)."
   ]
  },
  {
   "cell_type": "code",
   "execution_count": 21,
   "id": "b0be738e",
   "metadata": {},
   "outputs": [
    {
     "name": "stdout",
     "output_type": "stream",
     "text": [
      "Is it raining? False\n",
      "Is it sunny? True\n"
     ]
    }
   ],
   "source": [
    "# 1. Basic Boolean values\n",
    "is_raining = False\n",
    "is_sunny = True\n",
    "print(f\"Is it raining? {is_raining}\")\n",
    "print(f\"Is it sunny? {is_sunny}\")"
   ]
  },
  {
   "cell_type": "code",
   "execution_count": 22,
   "id": "930e86fb",
   "metadata": {},
   "outputs": [
    {
     "name": "stdout",
     "output_type": "stream",
     "text": [
      "Is it a day off? True\n"
     ]
    }
   ],
   "source": [
    "# 2. Boolean Operation\n",
    "is_weekend = True\n",
    "is_holiday = False\n",
    "is_day_off = is_weekend or is_holiday\n",
    "print(f\"Is it a day off? {is_day_off}\")"
   ]
  },
  {
   "cell_type": "code",
   "execution_count": 23,
   "id": "096ddbc1",
   "metadata": {},
   "outputs": [
    {
     "name": "stdout",
     "output_type": "stream",
     "text": [
      "Is 10 less than 15? True\n",
      "Is 10 equal to 15? False\n"
     ]
    }
   ],
   "source": [
    "# 3. Comparision Operators\n",
    "x = 10\n",
    "y = 15\n",
    "is_less_than = x < y\n",
    "is_equal = x == y\n",
    "print(f\"Is {x} less than {y}? {is_less_than}\")\n",
    "print(f\"Is {x} equal to {y}? {is_equal}\")"
   ]
  },
  {
   "cell_type": "code",
   "execution_count": 24,
   "id": "b0170a5b",
   "metadata": {},
   "outputs": [
    {
     "name": "stdout",
     "output_type": "stream",
     "text": [
      "The weather is pleasant.\n"
     ]
    }
   ],
   "source": [
    "# 4. Boolean in control flow\n",
    "temperature = 23\n",
    "if temperature > 30:\n",
    "    print(\"It's hot outside!\")\n",
    "elif temperature < 10:\n",
    "    print(\"It's cold outside!\")\n",
    "else:\n",
    "    print(\"The weather is pleasant.\")"
   ]
  },
  {
   "cell_type": "code",
   "execution_count": 25,
   "id": "d4bbad55",
   "metadata": {},
   "outputs": [
    {
     "name": "stdout",
     "output_type": "stream",
     "text": [
      "True\n",
      "False\n",
      "False\n",
      "True\n"
     ]
    }
   ],
   "source": [
    "# 5. Boolean Conversion\n",
    "print(bool(1))\n",
    "print(bool(0))\n",
    "print(bool(\"\"))\n",
    "print(bool(\"Hello\"))"
   ]
  },
  {
   "cell_type": "markdown",
   "id": "7013cb0f",
   "metadata": {},
   "source": [
    "**2.6 Working with Tuple**\n",
    "- Python tuples are a type of data structure that is very similar to lists. The main difference between the two is that tuples are immutable, meaning they cannot be changed once they are created. This makes them ideal for storing data that should not be modified, such as database records."
   ]
  },
  {
   "cell_type": "code",
   "execution_count": 26,
   "id": "27833003",
   "metadata": {},
   "outputs": [
    {
     "name": "stdout",
     "output_type": "stream",
     "text": [
      "Point: (2, 4, 6, 8, 10)\n"
     ]
    }
   ],
   "source": [
    "# 1. Creating tuples \n",
    "point = (2, 4, 6, 8, 10)\n",
    "print(f\"Point: {point}\")"
   ]
  },
  {
   "cell_type": "code",
   "execution_count": 28,
   "id": "db818389",
   "metadata": {},
   "outputs": [
    {
     "name": "stdout",
     "output_type": "stream",
     "text": [
      "X cordinates: 8, Y coordinate: 10\n"
     ]
    }
   ],
   "source": [
    "# 2. Tuple unpacking\n",
    "point = (8, 10)\n",
    "x, y = point\n",
    "print(f\"X cordinates: {x}, Y coordinate: {y}\")"
   ]
  },
  {
   "cell_type": "code",
   "execution_count": 29,
   "id": "ea561fe8",
   "metadata": {},
   "outputs": [
    {
     "name": "stdout",
     "output_type": "stream",
     "text": [
      "Screen dimensions: 1920x1080\n"
     ]
    }
   ],
   "source": [
    "# 3. Returning multiple values from a function\n",
    "def get_dimensions():\n",
    "    return (1920, 1080)\n",
    "width, height = get_dimensions()\n",
    "print(f\"Screen dimensions: {width}x{height}\")"
   ]
  },
  {
   "cell_type": "code",
   "execution_count": 32,
   "id": "0bb40fb2",
   "metadata": {},
   "outputs": [
    {
     "name": "stdout",
     "output_type": "stream",
     "text": [
      "Apple stock price: $200\n"
     ]
    }
   ],
   "source": [
    "# 4. Tuples as dictionary keys\n",
    "stock_prices = {\n",
    "    (\"Tesla\", \"2024-08-16\"): 200,\n",
    "    (\"Google\", \"2023-10-15\"): 130\n",
    "}\n",
    "print(f\"Apple stock price: ${stock_prices[('Tesla', '2024-08-16')]}\")"
   ]
  },
  {
   "cell_type": "code",
   "execution_count": 34,
   "id": "deb2ab51",
   "metadata": {},
   "outputs": [
    {
     "name": "stdout",
     "output_type": "stream",
     "text": [
      "('Alice', 30, 'Kathmandu')\n"
     ]
    }
   ],
   "source": [
    "# 5. Immutability of tuples\n",
    "person = (\"Alice\", 30, \"Kathmandu\")\n",
    "# person[1] = 31\n",
    "print(f\"{person}\")"
   ]
  },
  {
   "cell_type": "markdown",
   "id": "0503ffe2",
   "metadata": {},
   "source": [
    "**2.7 Working with Sets**\n",
    "- A set is a data collection type used in Python for storing multiple items in a single variable. Sets in Python are unordered and, as such, are not always consistent in the order they get returned. Furthermore, items in the set are immutable — ie. cannot be changed."
   ]
  },
  {
   "cell_type": "code",
   "execution_count": 35,
   "id": "0092f353",
   "metadata": {},
   "outputs": [
    {
     "name": "stdout",
     "output_type": "stream",
     "text": [
      "Unique fruits: {'apple', 'orange', 'mango', 'banana'}\n"
     ]
    }
   ],
   "source": [
    "# 1. Creating sets\n",
    "fruits = {\"apple\", \"banana\", \"orange\", \"mango\", \"banana\", \"orange\"}\n",
    "print(f\"Unique fruits: {fruits}\")\n"
   ]
  },
  {
   "cell_type": "code",
   "execution_count": 38,
   "id": "88d54c9e",
   "metadata": {},
   "outputs": [
    {
     "name": "stdout",
     "output_type": "stream",
     "text": [
      "Union: {1, 2, 3, 4, 5, 6, 7, 8}\n",
      "Intersection: {4, 5}\n",
      "Difference (set1 - set2): {1, 2, 3}\n"
     ]
    }
   ],
   "source": [
    "# 2. Set Operations\n",
    "set1 = {1, 2, 3, 4, 5}\n",
    "set2 = {4, 5, 6, 7, 8}\n",
    "union_set = set1 | set2\n",
    "intersection_set = set1 & set2\n",
    "difference_set = set1 - set2\n",
    "print(f\"Union: {union_set}\")\n",
    "print(f\"Intersection: {intersection_set}\")\n",
    "print(f\"Difference (set1 - set2): {difference_set}\")"
   ]
  },
  {
   "cell_type": "code",
   "execution_count": 41,
   "id": "a5e7feba",
   "metadata": {},
   "outputs": [
    {
     "name": "stdout",
     "output_type": "stream",
     "text": [
      "Is 3 in set?: True\n",
      "Is 6 in set?: False\n"
     ]
    }
   ],
   "source": [
    "# 3. Checking membership\n",
    "numbers = {1, 2, 3, 4, 5}\n",
    "print(f\"Is 3 in set?: {3 in numbers}\")\n",
    "print(f\"Is 6 in set?: {6 in numbers}\")"
   ]
  },
  {
   "cell_type": "code",
   "execution_count": 42,
   "id": "9cebb8c4",
   "metadata": {},
   "outputs": [
    {
     "name": "stdout",
     "output_type": "stream",
     "text": [
      "updated colors: {'yellow', 'blue', 'red'}\n"
     ]
    }
   ],
   "source": [
    "# 4. Adding and removing elements\n",
    "colors = {\"red\", \"green\", \"blue\"}\n",
    "colors.add(\"yellow\")\n",
    "colors.remove(\"green\")\n",
    "print(f\"updated colors: {colors}\")"
   ]
  },
  {
   "cell_type": "code",
   "execution_count": 43,
   "id": "ded2f240",
   "metadata": {},
   "outputs": [
    {
     "name": "stdout",
     "output_type": "stream",
     "text": [
      "Unique numbers: {1, 2, 3, 4, 5, 6}\n"
     ]
    }
   ],
   "source": [
    "# 5. Finding unique elements in a list \n",
    "numbers_list = [1, 2, 2, 3, 3, 4, 4, 5, 5, 6]\n",
    "unique_numbers = set(numbers_list)\n",
    "print(f\"Unique numbers: {unique_numbers}\")"
   ]
  },
  {
   "cell_type": "markdown",
   "id": "3103954b-e24d-4a6c-91df-44b95af56d96",
   "metadata": {},
   "source": [
    "**3. if,elif, else Statements**\n",
    "- Conditional statements (if, else, and elif) are fundamental programming constructs that allow you to control the flow of your program based on conditions that you specify. They provide a way to make decisions in your program and execute different code based on those decisions."
   ]
  },
  {
   "cell_type": "code",
   "execution_count": 2,
   "id": "c6c0840e-2c93-4f7a-92c2-a6d822d9e56f",
   "metadata": {},
   "outputs": [
    {
     "name": "stdin",
     "output_type": "stream",
     "text": [
      "Enter today's temperature:  25\n"
     ]
    },
    {
     "name": "stdout",
     "output_type": "stream",
     "text": [
      "It's a pleasant day. A t-shirt should be fine.\n"
     ]
    }
   ],
   "source": [
    "# Example 1: Weather clothing recommendation\n",
    "temperature = int(input(\"Enter today's temperature: \"))\n",
    "if temperature > 30:\n",
    "    print(\"It's hot! Wear light clothes and stay hydrated.\")\n",
    "elif 20<= temperature <=30:\n",
    "    print(\"It's a pleasant day. A t-shirt should be fine.\")\n",
    "else:\n",
    "    print(\"It's cool. Consider wearing jackets.\")"
   ]
  },
  {
   "cell_type": "code",
   "execution_count": 3,
   "id": "80230221-6d91-49f0-b175-a6f2f6da9688",
   "metadata": {},
   "outputs": [
    {
     "name": "stdin",
     "output_type": "stream",
     "text": [
      "Enter your math score:  85\n"
     ]
    },
    {
     "name": "stdout",
     "output_type": "stream",
     "text": [
      "Your grade is: B\n"
     ]
    }
   ],
   "source": [
    "# Example 2: Grade Assignment\n",
    "score = int(input(\"Enter your math score: \"))\n",
    "if score >=90:\n",
    "    grade = 'A'\n",
    "elif score >= 80:\n",
    "    grade = 'B'\n",
    "elif score >= 70:\n",
    "    grade = 'C'\n",
    "elif score >= 60:\n",
    "    grade = 'D'\n",
    "else:\n",
    "    grade = 'F'\n",
    "print(f\"Your grade is: {grade}\")"
   ]
  },
  {
   "cell_type": "markdown",
   "id": "d832a292-90a1-4c59-8ad8-ce641580a879",
   "metadata": {},
   "source": [
    "**4. Loops (For, While)**\n",
    "- A for loop is used for iterating over a sequence (that is either a list, a tuple, a dictionary, a set, or a string). This is less like the for keyword in other programming languages, and works more like an iterator method as found in other object-orientated programming languages."
   ]
  },
  {
   "cell_type": "code",
   "execution_count": 4,
   "id": "d01e3d2b-4b03-4dfa-ae5d-4b293d9d674a",
   "metadata": {},
   "outputs": [
    {
     "name": "stdout",
     "output_type": "stream",
     "text": [
      "Total sales: $843.0\n"
     ]
    }
   ],
   "source": [
    "# Example 1: Calculating total sales \n",
    "daily_sales = [125.50, 90.00, 180.00, 120.50, 126.75, 200.25]\n",
    "total_sales = 0\n",
    "for sale in daily_sales:\n",
    "    total_sales += sale\n",
    "print(f\"Total sales: ${total_sales}\")"
   ]
  },
  {
   "cell_type": "code",
   "execution_count": 5,
   "id": "87d42442-8b20-4834-a38e-ade4990e3c54",
   "metadata": {},
   "outputs": [
    {
     "name": "stdin",
     "output_type": "stream",
     "text": [
      "Enter the number you want for multiplication table:  6\n"
     ]
    },
    {
     "name": "stdout",
     "output_type": "stream",
     "text": [
      "6 x 1 = 6\n",
      "6 x 2 = 12\n",
      "6 x 3 = 18\n",
      "6 x 4 = 24\n",
      "6 x 5 = 30\n",
      "6 x 6 = 36\n",
      "6 x 7 = 42\n",
      "6 x 8 = 48\n",
      "6 x 9 = 54\n",
      "6 x 10 = 60\n"
     ]
    }
   ],
   "source": [
    "# Example 2: Multiplication table\n",
    "number = int(input(\"Enter the number you want for multiplication table: \"))\n",
    "for i in range(1, 11):\n",
    "    print(f\"{number} x {i} = {number * i}\")"
   ]
  },
  {
   "cell_type": "code",
   "execution_count": 7,
   "id": "3e20957c-b517-4bf8-8605-c009e192aa6f",
   "metadata": {},
   "outputs": [
    {
     "name": "stdout",
     "output_type": "stream",
     "text": [
      "Number of vowels: 16\n"
     ]
    }
   ],
   "source": [
    "# Example 3: Counting vowels in a string\n",
    "word = \"Hello World, I am learning Python for Emerging Technology!\"\n",
    "vowel_count = 0\n",
    "vowels = \"aeiouAEIOU\"\n",
    "for char in word:\n",
    "    if char in vowels:\n",
    "        vowel_count += 1\n",
    "print(f\"Number of vowels: {vowel_count}\")"
   ]
  },
  {
   "cell_type": "code",
   "execution_count": 10,
   "id": "29e4614a-f57c-488b-a2cf-bb27214bc35e",
   "metadata": {},
   "outputs": [
    {
     "name": "stdout",
     "output_type": "stream",
     "text": [
      "Factorial of 5 is 120.\n"
     ]
    }
   ],
   "source": [
    "# Example 4: Calculating factorial\n",
    "n = 5\n",
    "factorial = 1\n",
    "for i in range(1, n+1):\n",
    "    factorial *= i\n",
    "print(f\"Factorial of {n} is {factorial}.\")"
   ]
  },
  {
   "cell_type": "code",
   "execution_count": 17,
   "id": "f5bf15c8-e5e8-4b0f-ba70-57256d083be0",
   "metadata": {},
   "outputs": [
    {
     "name": "stdout",
     "output_type": "stream",
     "text": [
      "2 is prime.\n",
      "3 is prime.\n",
      "5 is prime.\n",
      "7 is prime.\n",
      "11 is prime.\n",
      "13 is prime.\n",
      "17 is prime.\n",
      "19 is prime.\n",
      "23 is prime.\n"
     ]
    }
   ],
   "source": [
    "# Example 5: Finding prime number in a range\n",
    "for num in range(2, 25):\n",
    "    for i in range(2, num):\n",
    "        if num % i == 0:\n",
    "            break\n",
    "    else:\n",
    "        print(f\"{num} is prime.\")"
   ]
  },
  {
   "cell_type": "code",
   "execution_count": 19,
   "id": "21b063d6-d687-43f6-8fef-25a803a15283",
   "metadata": {},
   "outputs": [
    {
     "name": "stdout",
     "output_type": "stream",
     "text": [
      "5\n",
      "4\n",
      "3\n",
      "2\n",
      "1\n",
      "Blast off!\n"
     ]
    }
   ],
   "source": [
    "# While Loop Example 1: Countdown timer\n",
    "countdown = 5\n",
    "while countdown > 0:\n",
    "    print(countdown)\n",
    "    countdown -= 1\n",
    "print(\"Blast off!\")"
   ]
  },
  {
   "cell_type": "code",
   "execution_count": 21,
   "id": "cef863b6-20f7-4b66-961c-d24f3fa02710",
   "metadata": {},
   "outputs": [
    {
     "name": "stdin",
     "output_type": "stream",
     "text": [
      "Guess the number (1-50):  49\n",
      "Guess the number (1-50):  28\n",
      "Guess the number (1-50):  1\n",
      "Guess the number (1-50):  7\n",
      "Guess the number (1-50):  10\n",
      "Guess the number (1-50):  14\n",
      "Guess the number (1-50):  21\n",
      "Guess the number (1-50):  28\n",
      "Guess the number (1-50):  35\n",
      "Guess the number (1-50):  42\n",
      "Guess the number (1-50):  22\n",
      "Guess the number (1-50):  19\n",
      "Guess the number (1-50):  15\n",
      "Guess the number (1-50):  50\n",
      "Guess the number (1-50):  5\n",
      "Guess the number (1-50):  4\n",
      "Guess the number (1-50):  3\n",
      "Guess the number (1-50):  2\n",
      "Guess the number (1-50):  45\n",
      "Guess the number (1-50):  40\n",
      "Guess the number (1-50):  37\n",
      "Guess the number (1-50):  44\n",
      "Guess the number (1-50):  10\n",
      "Guess the number (1-50):  38\n",
      "Guess the number (1-50):  48\n",
      "Guess the number (1-50):  12\n",
      "Guess the number (1-50):  42\n",
      "Guess the number (1-50):  11\n"
     ]
    },
    {
     "name": "stdout",
     "output_type": "stream",
     "text": [
      "You have guessed secret number in 28 attempts.\n"
     ]
    }
   ],
   "source": [
    "# Example 2: Guessing game\n",
    "import random \n",
    "secret_number = random.randint(1, 50)\n",
    "guess = 0\n",
    "attempts = 0\n",
    "while guess != secret_number:\n",
    "    guess = int(input(\"Guess the number (1-50): \"))\n",
    "    attempts += 1\n",
    "print(f\"You have guessed secret number in {attempts} attempts.\")"
   ]
  },
  {
   "cell_type": "code",
   "execution_count": 24,
   "id": "b4755520-7b11-447d-8971-4df626db57fb",
   "metadata": {},
   "outputs": [
    {
     "name": "stdin",
     "output_type": "stream",
     "text": [
      "Enter withdrawl amount (0 to exit):  1000\n"
     ]
    },
    {
     "name": "stdout",
     "output_type": "stream",
     "text": [
      "Withdrawl successful. New balance: $4000.0\n"
     ]
    },
    {
     "name": "stdin",
     "output_type": "stream",
     "text": [
      "Enter withdrawl amount (0 to exit):  0\n"
     ]
    }
   ],
   "source": [
    "# Example 3: ATM cash withdrawl\n",
    "balance = 5000\n",
    "while True:\n",
    "    withdrawl = float(input(\"Enter withdrawl amount (0 to exit): \"))\n",
    "    if withdrawl == 0:\n",
    "        break\n",
    "    if withdrawl > balance:\n",
    "        print(\"Insufficient funds!\")\n",
    "    else:\n",
    "        balance -= withdrawl\n",
    "        print(f\"Withdrawl successful. New balance: ${balance}\")"
   ]
  },
  {
   "cell_type": "code",
   "execution_count": 32,
   "id": "f3cc297b-2edc-4a80-95bb-37075d26836e",
   "metadata": {},
   "outputs": [
    {
     "name": "stdin",
     "output_type": "stream",
     "text": [
      "Enter player health:  12\n"
     ]
    },
    {
     "name": "stdout",
     "output_type": "stream",
     "text": [
      "Turn 1: Player health is 12.\n",
      "Turn 2: Player health is 3.\n",
      "Game over! You survived 2 turns.\n"
     ]
    }
   ],
   "source": [
    "# Example 4: Simulating a survival game loop\n",
    "import random\n",
    "player_health = int(input(\"Enter player health: \"))\n",
    "turns = 0\n",
    "while player_health > 0:\n",
    "    print(f\"Turn {turns + 1}: Player health is {player_health}.\")\n",
    "    damage = random.randint(5, 30)\n",
    "    player_health -= damage\n",
    "    turns +=1\n",
    "print(f\"Game over! You survived {turns} turns.\")"
   ]
  },
  {
   "cell_type": "markdown",
   "id": "f45955cc-8107-4b94-999f-c8ca2b241992",
   "metadata": {},
   "source": [
    "**5. range() and List Comprehension**\n",
    "- range() is used to generate a sequence of numbers.\n",
    "- List comprehensions provide a concise way to create lists by iterating over an iterable and applying expressions or conditions.\n",
    "- Combining range() with list comprehensions is a common and powerful pattern for creating lists based on sequences of numbers."
   ]
  },
  {
   "cell_type": "code",
   "execution_count": 33,
   "id": "b7c60e34-312a-4e84-9957-feae1fa77c3f",
   "metadata": {},
   "outputs": [
    {
     "name": "stdout",
     "output_type": "stream",
     "text": [
      "Number from 0 to 5:\n",
      "0 1 2 3 4 5 \n",
      "\n"
     ]
    }
   ],
   "source": [
    "# Example 1: Basic usage of range()\n",
    "print(\"Number from 0 to 5:\")\n",
    "for i in range(6):\n",
    "    print(i, end= \" \")\n",
    "print(\"\\n\")"
   ]
  },
  {
   "cell_type": "code",
   "execution_count": 36,
   "id": "2ec67645-bb46-477f-89aa-02cbea4cf442",
   "metadata": {},
   "outputs": [
    {
     "name": "stdout",
     "output_type": "stream",
     "text": [
      "Countdown from 10 to 1\n",
      "10 9 8 7 6 5 4 3 2 1 \n",
      "\n"
     ]
    }
   ],
   "source": [
    "# Example 2: range with negative steps\n",
    "print(\"Countdown from 10 to 1\")\n",
    "for i in range(10, 0, -1):\n",
    "    print(i, end = \" \")\n",
    "print(\"\\n\")"
   ]
  },
  {
   "cell_type": "code",
   "execution_count": 37,
   "id": "7b1fd3c7-96e0-4afe-9e05-8f32b38a8ae5",
   "metadata": {},
   "outputs": [
    {
     "name": "stdout",
     "output_type": "stream",
     "text": [
      "Even numbers from 2 to 10:\n",
      "2 4 6 8 10 \n",
      "\n"
     ]
    }
   ],
   "source": [
    "# Example 3: range() with start and stop\n",
    "print(\"Even numbers from 2 to 10:\")\n",
    "for i in range(2, 11, 2):\n",
    "    print(i, end=\" \")\n",
    "print(\"\\n\")"
   ]
  },
  {
   "cell_type": "code",
   "execution_count": 38,
   "id": "1aac41b3-1576-47b1-99ac-59ad5ad3d588",
   "metadata": {},
   "outputs": [
    {
     "name": "stdout",
     "output_type": "stream",
     "text": [
      "Squares of numbers from 1 to 10:\n",
      "[1, 4, 9, 16, 25, 36, 49, 64, 81, 100]\n"
     ]
    }
   ],
   "source": [
    "# List Comprehension Examples:\n",
    "# Example 1: Creating a list of squares\n",
    "squares = [x**2 for x in range(1,11)]\n",
    "print(\"Squares of numbers from 1 to 10:\")\n",
    "print(squares)"
   ]
  },
  {
   "cell_type": "code",
   "execution_count": 40,
   "id": "3603b07d-e5e7-46c0-8c7c-8326823413ee",
   "metadata": {},
   "outputs": [
    {
     "name": "stdout",
     "output_type": "stream",
     "text": [
      "Even numbers from the list:\n",
      "[2, 4, 6, 8, 10]\n"
     ]
    }
   ],
   "source": [
    "# Example 2: Filtering even numbers\n",
    "numbers = [1, 2, 3, 4, 5, 6, 7, 8, 9, 10]\n",
    "even_numbers = [x for x in numbers if x%2==0]\n",
    "print(\"Even numbers from the list:\")\n",
    "print(even_numbers)"
   ]
  },
  {
   "cell_type": "markdown",
   "id": "a3bbf671-c705-4677-8674-d2f19ee74657",
   "metadata": {},
   "source": [
    "**7. Function**\n",
    "- In all programming and scripting language, a function is a block of program statements which can be used repetitively in a program. It saves the time of a developer. In Python concept of function is same as in other languages. There are some built-in functions which are part of Python."
   ]
  },
  {
   "cell_type": "code",
   "execution_count": 48,
   "id": "0fa99af1-4a38-48c5-ab40-2350069af425",
   "metadata": {},
   "outputs": [
    {
     "name": "stdout",
     "output_type": "stream",
     "text": [
      "Hello world\n",
      "PYTHON IS AWESOME\n",
      "I love R\n"
     ]
    }
   ],
   "source": [
    "# String Manipulation Functions:\n",
    "# Example 1: Capitalize first letter of a string\n",
    "def capitalize_first(text):\n",
    "    return text.capitalize()\n",
    "print(capitalize_first(\"hello world\"))\n",
    "\n",
    "# Example 2: Convert a string to uppercase\n",
    "def to_uppercase(text):\n",
    "    return text.upper()\n",
    "print(to_uppercase(\"python is awesome\"))\n",
    "\n",
    "# Example 3: Replace a substring in a string\n",
    "def replace_substring(text, old, new):\n",
    "    return text.replace(old, new)\n",
    "\n",
    "print(replace_substring(\"I love Python\", \"Python\", \"R\"))"
   ]
  },
  {
   "cell_type": "code",
   "execution_count": 55,
   "id": "ae073f59-478c-43d0-b6b4-12732c804762",
   "metadata": {},
   "outputs": [
    {
     "name": "stdout",
     "output_type": "stream",
     "text": [
      "7.0\n",
      "256.0\n",
      "12.57\n"
     ]
    }
   ],
   "source": [
    "# Math Functions\n",
    "# Example: Calculate the square root of a number\n",
    "import math\n",
    "\n",
    "def calc_sqrt(num):\n",
    "    return math.sqrt(num)\n",
    "print(calc_sqrt(49))\n",
    "\n",
    "# Example 2: Calculate the power of a number\n",
    "def calc_power(base, exponent):\n",
    "    return math.pow(base, exponent)\n",
    "print(calc_power(4, 4))\n",
    "\n",
    "# Example 3: Round a number to a specified number of decimal places\n",
    "def round_numbers(num, ndigits):\n",
    "    return round(num, ndigits)\n",
    "print(round_numbers(12.56789, 2))"
   ]
  },
  {
   "cell_type": "markdown",
   "id": "8916e30a-638d-4ce0-b624-b7d43ce79fa5",
   "metadata": {},
   "source": [
    "- **lambda expressions**\n",
    "  - Lambda functions are similar to user-defined functions but without a name. They're commonly referred to as anonymous functions. Lambda functions are efficient whenever you want to create a function that will only contain simple expressions – that is, expressions that are usually a single line of a statement.\n",
    "- **map and filter**\n",
    "  - Map, filter, and reduce are three powerful functions in Python that allow you to manipulate and transform data in efficient and concise ways. These functions are part of the functional programming paradigm, which emphasizes immutability and the use of higher-order functions to create more modular and reusable code.\n",
    "- **methods**\n",
    "  - Python methods are functions that are associated with an object or a class in Python programming. They are used to perform specific tasks or operations on the data stored within objects or classes."
   ]
  },
  {
   "cell_type": "code",
   "execution_count": 1,
   "id": "9a684b60-9839-4360-847b-0eb39ca6660d",
   "metadata": {},
   "outputs": [
    {
     "name": "stdout",
     "output_type": "stream",
     "text": [
      "20\n"
     ]
    }
   ],
   "source": [
    "# Simple Lambda Function\n",
    "double = lambda x: x * 2\n",
    "print(double(10))"
   ]
  },
  {
   "cell_type": "code",
   "execution_count": 2,
   "id": "b5d5e845-0499-4d84-a421-53f0575782b7",
   "metadata": {},
   "outputs": [
    {
     "name": "stdout",
     "output_type": "stream",
     "text": [
      "30\n"
     ]
    }
   ],
   "source": [
    "# Lambda Function with Multiple Agruments:\n",
    "add = lambda x, y: x + y\n",
    "print(add(10,20))"
   ]
  },
  {
   "cell_type": "code",
   "execution_count": 4,
   "id": "cc07d9f5-714c-4877-9f35-fff11b5f5b92",
   "metadata": {},
   "outputs": [
    {
     "name": "stdout",
     "output_type": "stream",
     "text": [
      "125\n",
      "25\n"
     ]
    }
   ],
   "source": [
    "# Lambda Function with Default Argument:\n",
    "power = lambda x, y=3: x**y\n",
    "print(power(5))\n",
    "print(power(5,2))"
   ]
  },
  {
   "cell_type": "code",
   "execution_count": 5,
   "id": "4fadf855-acb5-44d9-abc0-5096bd9e6338",
   "metadata": {},
   "outputs": [
    {
     "name": "stdout",
     "output_type": "stream",
     "text": [
      "even\n",
      "Odd\n"
     ]
    }
   ],
   "source": [
    "# Lambda Function with Conditional Expression\n",
    "even_or_odd = lambda x: \"even\" if x % 2 == 0 else \"Odd\"\n",
    "print(even_or_odd(10))\n",
    "print(even_or_odd(11))"
   ]
  },
  {
   "cell_type": "code",
   "execution_count": 6,
   "id": "424ea5a6-1e2d-4889-b3e7-1df7af939734",
   "metadata": {},
   "outputs": [
    {
     "name": "stdout",
     "output_type": "stream",
     "text": [
      "[0, 1, 4, 9, 16, 25, 36, 49, 64, 81, 100]\n"
     ]
    }
   ],
   "source": [
    "# Lambda Function with List Comprehension:\n",
    "squares = list(map(lambda x: x**2, range(11)))\n",
    "print(squares)"
   ]
  },
  {
   "cell_type": "code",
   "execution_count": 7,
   "id": "c22e0034-9894-4084-a72f-34307a5abdfc",
   "metadata": {},
   "outputs": [
    {
     "name": "stdout",
     "output_type": "stream",
     "text": [
      "[0, 2, 4, 6, 8, 10]\n"
     ]
    }
   ],
   "source": [
    "# Lambda Function with Filter\n",
    "even_numbers = list(filter(lambda x: x % 2 ==0, range(11)))\n",
    "print(even_numbers)"
   ]
  },
  {
   "cell_type": "code",
   "execution_count": 9,
   "id": "d522efad",
   "metadata": {},
   "outputs": [
    {
     "name": "stdout",
     "output_type": "stream",
     "text": [
      "[{'name': 'Ram', 'age_group': 'young'}, {'name': 'Jack', 'age_group': 'adult'}, {'name': 'Alice', 'age_group': 'adult'}]\n"
     ]
    }
   ],
   "source": [
    "# Lambda Function with Data Preprocessing:\n",
    "data = [{\"name\": \"Ram\", \"age\": 25}, {\"name\":\"Jack\", \"age\": 30}, {\"name\": \"Alice\", \"age\": 35}]\n",
    "processed_data = list(map(lambda x: {\"name\": x[\"name\"], \"age_group\": \"adult\" if x[\"age\"] >=30 else \"young\"}, data))\n",
    "print(processed_data)"
   ]
  },
  {
   "cell_type": "code",
   "execution_count": null,
   "id": "720a33bf",
   "metadata": {},
   "outputs": [],
   "source": []
  },
  {
   "cell_type": "markdown",
   "id": "9a532f41-8be7-4112-9b71-305bb4b3bc14",
   "metadata": {},
   "source": [
    "### List Methods\n",
    "Here are some other common list methods.\n",
    "\n",
    "- list.append(elem) -- adds a single element to the end of the list. Common error: does not return the new list, just modifies the original.\n",
    "- list.insert(index, elem) -- inserts the element at the given index, shifting elements to the right.\n",
    "- list.extend(list2) adds the elements in list2 to the end of the list. Using + or += on a list is similar to using extend().\n",
    "- list.index(elem) -- searches for the given element from the start of the list and returns its index. Throws a ValueError if the element does not appear (use \"in\" to check without a ValueError).\n",
    "- list.remove(elem) -- searches for the first instance of the given element and removes it (throws ValueError if not present)\n",
    "- list.sort() -- sorts the list in place (does not return it). (The sorted() function shown later is preferred.)\n",
    "- list.reverse() -- reverses the list in place (does not return it)\n",
    "- list.pop(index) -- removes and returns the element at the given index. Returns the rightmost element if index is omitted (roughly the opposite of append()).\n",
    "\n",
    "Notice that these are *methods* on a list object, while len() is a function that takes the list (or string or whatever) as an argument."
   ]
  },
  {
   "cell_type": "code",
   "execution_count": 1,
   "id": "dfad1082",
   "metadata": {},
   "outputs": [
    {
     "name": "stdout",
     "output_type": "stream",
     "text": [
      "['apple', 'banana', 'orange']\n"
     ]
    }
   ],
   "source": [
    "# 1. append():\n",
    "fruits = ['apple', 'banana']\n",
    "fruits.append('orange')\n",
    "print(fruits)  # Output: ['apple', 'banana', 'orange']"
   ]
  },
  {
   "cell_type": "code",
   "execution_count": 2,
   "id": "827b6d02",
   "metadata": {},
   "outputs": [
    {
     "name": "stdout",
     "output_type": "stream",
     "text": [
      "[1, 2, 3, 4]\n"
     ]
    }
   ],
   "source": [
    "# 2. insert():\n",
    "numbers = [1, 2, 4]\n",
    "numbers.insert(2, 3)\n",
    "print(numbers)  # Output: [1, 2, 3, 4]"
   ]
  },
  {
   "cell_type": "code",
   "execution_count": 3,
   "id": "50dcdc0d",
   "metadata": {},
   "outputs": [
    {
     "name": "stdout",
     "output_type": "stream",
     "text": [
      "[1, 2, 3, 4, 5, 6]\n"
     ]
    }
   ],
   "source": [
    "# 3. extend():\n",
    "list1 = [1, 2, 3]\n",
    "list2 = [4, 5, 6]\n",
    "list1.extend(list2)\n",
    "print(list1)  # Output: [1, 2, 3, 4, 5, 6]"
   ]
  },
  {
   "cell_type": "code",
   "execution_count": 5,
   "id": "0a151aae",
   "metadata": {},
   "outputs": [
    {
     "name": "stdout",
     "output_type": "stream",
     "text": [
      "1\n"
     ]
    }
   ],
   "source": [
    "# 4. index():\n",
    "colors = ['red', 'green', 'blue']\n",
    "print(colors.index('green'))  # Output: 1"
   ]
  },
  {
   "cell_type": "code",
   "execution_count": 6,
   "id": "49f75916",
   "metadata": {},
   "outputs": [
    {
     "name": "stdout",
     "output_type": "stream",
     "text": [
      "['cat', 'elephant', 'dog']\n"
     ]
    }
   ],
   "source": [
    "# 5. remove():\n",
    "animals = ['cat', 'dog', 'elephant', 'dog']\n",
    "animals.remove('dog')\n",
    "print(animals)  # Output: ['cat', 'elephant', 'dog']"
   ]
  },
  {
   "cell_type": "code",
   "execution_count": 7,
   "id": "8983c596",
   "metadata": {},
   "outputs": [
    {
     "name": "stdout",
     "output_type": "stream",
     "text": [
      "[1, 1, 2, 3, 4, 5, 9]\n"
     ]
    }
   ],
   "source": [
    "# 6. sort():\n",
    "numbers = [3, 1, 4, 1, 5, 9, 2]\n",
    "numbers.sort()\n",
    "print(numbers)  # Output: [1, 1, 2, 3, 4, 5, 9]"
   ]
  },
  {
   "cell_type": "code",
   "execution_count": 8,
   "id": "734c991a",
   "metadata": {},
   "outputs": [
    {
     "name": "stdout",
     "output_type": "stream",
     "text": [
      "['c', 'b', 'a']\n"
     ]
    }
   ],
   "source": [
    "# 7. reverse():\n",
    "letters = ['a', 'b', 'c']\n",
    "letters.reverse()\n",
    "print(letters)  # Output: ['c', 'b', 'a']"
   ]
  },
  {
   "cell_type": "code",
   "execution_count": 9,
   "id": "64c5b184",
   "metadata": {},
   "outputs": [
    {
     "name": "stdout",
     "output_type": "stream",
     "text": [
      "4\n",
      "[1, 2, 3]\n",
      "1\n",
      "[2, 3]\n"
     ]
    }
   ],
   "source": [
    "# 8. pop():\n",
    "stack = [1, 2, 3, 4]\n",
    "popped = stack.pop()\n",
    "print(popped)  # Output: 4\n",
    "print(stack)   # Output: [1, 2, 3]\n",
    "\n",
    "# With index\n",
    "popped_index = stack.pop(0)\n",
    "print(popped_index)  # Output: 1\n",
    "print(stack)         # Output: [2, 3]"
   ]
  }
 ],
 "metadata": {
  "kernelspec": {
   "display_name": "Python 3 (ipykernel)",
   "language": "python",
   "name": "python3"
  },
  "language_info": {
   "codemirror_mode": {
    "name": "ipython",
    "version": 3
   },
   "file_extension": ".py",
   "mimetype": "text/x-python",
   "name": "python",
   "nbconvert_exporter": "python",
   "pygments_lexer": "ipython3",
   "version": "3.11.5"
  }
 },
 "nbformat": 4,
 "nbformat_minor": 5
}
