{
 "cells": [
  {
   "cell_type": "markdown",
   "id": "cde68ba8-070c-48a6-aea4-671a2bbfd742",
   "metadata": {},
   "source": [
    "#### Python Crash Course\n",
    "This notebook will just go through the basic topics in order:\n",
    "- What is Python?\n",
    "  - Python is a computer programming language often used to build websites and software, automate tasks, and analyze data. Python is a general-purpose language, not specialized for any specific problems, and used to create various programmes.\n",
    "- Print Statements\n",
    "- Data types\n",
    "    - Numbers\n",
    "    - Strings\n",
    "    - Lists\n",
    "    - Dictionaries\n",
    "    - Booleans\n",
    "    - Tuples\n",
    "    - Sets\n",
    "- Comparison Operators\n",
    "- if,elif, else Statements\n",
    "- for Loops\n",
    "- while Loops\n",
    "- range()\n",
    "- list comprehension\n",
    "- functions\n",
    "- lambda expressions\n",
    "- map and filter\n",
    "- methods\n"
   ]
  },
  {
   "cell_type": "markdown",
   "id": "84bde55e-a5e6-4710-9b47-d2067747d1da",
   "metadata": {},
   "source": [
    "**1. Print Statements**"
   ]
  },
  {
   "cell_type": "code",
   "execution_count": 2,
   "id": "5a6e39df-0bc9-45c4-b042-f6acd127bbda",
   "metadata": {},
   "outputs": [
    {
     "name": "stdout",
     "output_type": "stream",
     "text": [
      "WARNING: Unauthorized access is prohibited!\n"
     ]
    }
   ],
   "source": [
    "print(\"WARNING: Unauthorized access is prohibited!\")"
   ]
  },
  {
   "cell_type": "code",
   "execution_count": 4,
   "id": "ab9edf59-14b8-4c02-924b-245268480f5a",
   "metadata": {},
   "outputs": [
    {
     "name": "stdout",
     "output_type": "stream",
     "text": [
      "Logged in user: Siddhant\n"
     ]
    }
   ],
   "source": [
    "# Variables: Store and print a username using string formatting method\n",
    "name = \"Siddhant\"\n",
    "print(f\"Logged in user: {name}\")"
   ]
  },
  {
   "cell_type": "code",
   "execution_count": 6,
   "id": "0f05db4d-0b80-44db-ba08-1734330204da",
   "metadata": {},
   "outputs": [
    {
     "name": "stdout",
     "output_type": "stream",
     "text": [
      "The password of wifi for Admin user is London12#3.\n"
     ]
    }
   ],
   "source": [
    "# Let's print the statement with format method\n",
    "username = \"Admin\"\n",
    "password = \"London12#3\"\n",
    "print(\"The password of wifi for {} user is {}.\" .format(username, password))"
   ]
  },
  {
   "cell_type": "code",
   "execution_count": 7,
   "id": "fbae779f-2a05-409e-8393-f84fcd5532ed",
   "metadata": {},
   "outputs": [
    {
     "name": "stdout",
     "output_type": "stream",
     "text": [
      "Rupesh is 24 years old.\n"
     ]
    }
   ],
   "source": [
    "# Using concatenation method\n",
    "name = \"Rupesh\"\n",
    "age = 24\n",
    "print(name + \" is \" +str(age) + \" years old.\")"
   ]
  },
  {
   "cell_type": "code",
   "execution_count": 8,
   "id": "c7a20848-9974-4a8d-86dd-8c93bd9d2c89",
   "metadata": {},
   "outputs": [
    {
     "name": "stdout",
     "output_type": "stream",
     "text": [
      "Rupa is 21 years old.\n"
     ]
    }
   ],
   "source": [
    "# Using older % string formatting method\n",
    "name = \"Rupa\"\n",
    "age = 21\n",
    "print(\"%s is %d years old.\" %(name,age))"
   ]
  },
  {
   "cell_type": "code",
   "execution_count": 10,
   "id": "1e715ab6-2e29-46af-93e7-dd6b4ef46734",
   "metadata": {},
   "outputs": [
    {
     "name": "stdout",
     "output_type": "stream",
     "text": [
      "Enter your facebook password:  london12#3\n",
      "Password received. Never share your password!\n"
     ]
    }
   ],
   "source": [
    "# Input: Ask for a password\n",
    "password = input(\"Enter your facebook password: \")\n",
    "print(\"Password received. Never share your password!\")"
   ]
  },
  {
   "cell_type": "code",
   "execution_count": 12,
   "id": "37bc7566-41c6-454f-8c30-347a1608d8c5",
   "metadata": {},
   "outputs": [
    {
     "name": "stdout",
     "output_type": "stream",
     "text": [
      "Enter the password:  london12#3\n",
      "Access denied.\n"
     ]
    }
   ],
   "source": [
    "# Conditional: Simple password checker\n",
    "correct_password = \"SecurePass12#3\"\n",
    "user_password = input(\"Enter the password: \")\n",
    "if user_password == correct_password:\n",
    "    print(\"Access granted.\")\n",
    "else:\n",
    "    print(\"Access denied.\")"
   ]
  },
  {
   "cell_type": "code",
   "execution_count": 13,
   "id": "1bdc535c-97ff-47c7-85f0-b16f95192a80",
   "metadata": {},
   "outputs": [
    {
     "data": {
      "text/plain": [
       "'SecurePass12#3'"
      ]
     },
     "execution_count": 13,
     "metadata": {},
     "output_type": "execute_result"
    }
   ],
   "source": [
    "correct_password"
   ]
  },
  {
   "cell_type": "markdown",
   "id": "7a9fbf45-b05c-498b-9cfc-cd726ab7fce0",
   "metadata": {},
   "source": [
    "**2. Data Types**\n",
    "- What is Data Types?\n",
    "   - They determine the type of values variables can hold and specify the operations that can be performed on those values. For instance, Python has several built-in data types, including numeric types (int, float, complex), string (str), boolean (bool), and collection types (list, tuple, dict, set)."
   ]
  },
  {
   "cell_type": "markdown",
   "id": "90d84781-875e-4e27-b7ee-b2deb06b880a",
   "metadata": {},
   "source": [
    "**2.1 Working with Numbers**"
   ]
  },
  {
   "cell_type": "code",
   "execution_count": 16,
   "id": "9f8f0de3-4fb6-4c69-b40e-a4ff15bdeb49",
   "metadata": {},
   "outputs": [
    {
     "name": "stdout",
     "output_type": "stream",
     "text": [
      "The addition of 50 and 10 is 60.\n",
      "The subtraction of 50 from 10 is -40.\n",
      "The multiplication of 50 and 10 is 500.\n",
      "The division of 50 from 10 is 0.2.\n",
      "The reminder of 50 from 10 is 10.\n"
     ]
    }
   ],
   "source": [
    "x = 50\n",
    "y = 10\n",
    "print(f\"The addition of {x} and {y} is {x+y}.\")\n",
    "print(f\"The subtraction of {x} from {y} is {y-x}.\")\n",
    "print(f\"The multiplication of {x} and {y} is {x*y}.\")\n",
    "print(f\"The division of {x} from {y} is {y/x}.\")\n",
    "print(f\"The reminder of {x} from {y} is {y%x}.\")"
   ]
  },
  {
   "cell_type": "markdown",
   "id": "52e0517b-1fe9-4c03-9706-31f6f4b97a43",
   "metadata": {},
   "source": [
    "**2.2 Working with strings**"
   ]
  },
  {
   "cell_type": "code",
   "execution_count": 17,
   "id": "bedcc89d-222d-4428-9c35-c80fbfa18158",
   "metadata": {},
   "outputs": [
    {
     "name": "stdout",
     "output_type": "stream",
     "text": [
      "Single Quoted String is:  Python is Awesome!!\n"
     ]
    }
   ],
   "source": [
    "# working with single quoted string\n",
    "single_quoted_string = 'Python is Awesome!!'\n",
    "print(\"Single Quoted String is: \", single_quoted_string)"
   ]
  },
  {
   "cell_type": "code",
   "execution_count": 19,
   "id": "e42a789e-78bc-4f5b-b219-2f18de9cc659",
   "metadata": {},
   "outputs": [
    {
     "name": "stdout",
     "output_type": "stream",
     "text": [
      "Double Quoted String: I am learning Python!!\n"
     ]
    }
   ],
   "source": [
    "# Working with double quoted string\n",
    "double_quoted_string = \"I am learning Python!!\"\n",
    "print(\"Double Quoted String:\", double_quoted_string)"
   ]
  },
  {
   "cell_type": "code",
   "execution_count": 20,
   "id": "a205da19-85fb-481a-82a0-184a51464e97",
   "metadata": {},
   "outputs": [
    {
     "name": "stdout",
     "output_type": "stream",
     "text": [
      "Concatenated string is:  Python is Awesome!! I am learning Python!!\n"
     ]
    }
   ],
   "source": [
    "# String Concatenation \n",
    "concatenated_string = single_quoted_string + ' ' + double_quoted_string\n",
    "print(\"Concatenated string is: \", concatenated_string)"
   ]
  },
  {
   "cell_type": "code",
   "execution_count": 21,
   "id": "2aba5de3-9cff-4494-9f03-c047ff13a0cd",
   "metadata": {},
   "outputs": [
    {
     "name": "stdout",
     "output_type": "stream",
     "text": [
      "PYTHON IS AWESOME!! I AM LEARNING PYTHON!!\n",
      "python is awesome!! i am learning python!!\n"
     ]
    }
   ],
   "source": [
    "# String methods\n",
    "uppercase_string = concatenated_string.upper()\n",
    "print(uppercase_string)\n",
    "lowercase_string = concatenated_string.lower()\n",
    "print(lowercase_string)"
   ]
  },
  {
   "cell_type": "code",
   "execution_count": 29,
   "id": "bc7fabd6-5273-4d52-8745-60a2dfca50c9",
   "metadata": {},
   "outputs": [
    {
     "name": "stdout",
     "output_type": "stream",
     "text": [
      "Slice word is: rsity\n"
     ]
    }
   ],
   "source": [
    "# String slicing examples\n",
    "word = \"University of Sundarland\"\n",
    "slice_word = word[5:10]\n",
    "print(\"Slice word is:\", slice_word)"
   ]
  },
  {
   "cell_type": "code",
   "execution_count": 27,
   "id": "35263b25-19a0-4df4-be35-b2b71e2e217c",
   "metadata": {},
   "outputs": [
    {
     "name": "stdout",
     "output_type": "stream",
     "text": [
      "Word with space:   University of Sundarland  \n",
      "Words without leading and trailing spaces: University of Sundarland\n"
     ]
    }
   ],
   "source": [
    "# Remove leading and trailing spaces\n",
    "word_with_spaces = \"  University of Sundarland  \"\n",
    "print(\"Word with space:\",word_with_spaces)\n",
    "cleaned_words = word_with_spaces.strip()\n",
    "print(\"Words without leading and trailing spaces:\", cleaned_words)"
   ]
  },
  {
   "cell_type": "markdown",
   "id": "ebfdf065-2025-4c49-97e4-1e1ec917fa39",
   "metadata": {},
   "source": [
    "**2.3 Working with lists**\n",
    "- A list is a data structure in Python that is a mutable, or changeable, ordered sequence of elements. Each element or value that is inside of a list is called an item. Just as strings are defined as characters between quotes, lists are defined by having values between square brackets [ ] ."
   ]
  },
  {
   "cell_type": "code",
   "execution_count": 30,
   "id": "bdfae644-baa7-4cf3-a741-0b8bdb0d4dc9",
   "metadata": {},
   "outputs": [
    {
     "name": "stdout",
     "output_type": "stream",
     "text": [
      "Common ports: [80, 443, 22, 21, 3306]\n"
     ]
    }
   ],
   "source": [
    "# Lists: Store and print a list of common ports\n",
    "common_ports = [80, 443, 22, 21, 3306]\n",
    "print(\"Common ports:\", common_ports)"
   ]
  },
  {
   "cell_type": "code",
   "execution_count": 31,
   "id": "7be0012c-ad42-4735-8e0a-1384240cf5f9",
   "metadata": {},
   "outputs": [
    {
     "name": "stdout",
     "output_type": "stream",
     "text": [
      "Port 80 is commonly used.\n",
      "Port 443 is commonly used.\n",
      "Port 22 is commonly used.\n",
      "Port 21 is commonly used.\n",
      "Port 3306 is commonly used.\n"
     ]
    }
   ],
   "source": [
    "# For Loop: Print each port from above list\n",
    "for port in common_ports:\n",
    "    print(f\"Port {port} is commonly used.\")"
   ]
  },
  {
   "cell_type": "code",
   "execution_count": 32,
   "id": "0cb9d8d0-1e31-4489-a15b-98c9f02bd237",
   "metadata": {},
   "outputs": [
    {
     "name": "stdout",
     "output_type": "stream",
     "text": [
      "The Os Lists:  ['Kali', 'Ubuntu', 'Macos', 'Windows', 'Redhat', 'Fedora', 'Parrotos']\n"
     ]
    }
   ],
   "source": [
    "OS_list = [\"Kali\", \"Ubuntu\", \"Macos\", \"Windows\", \"Redhat\", \"Fedora\", \"Parrotos\"]\n",
    "print(\"The Os Lists: \", OS_list)"
   ]
  },
  {
   "cell_type": "code",
   "execution_count": 39,
   "id": "6762b1fc-def5-4527-a566-00b9208953cb",
   "metadata": {},
   "outputs": [
    {
     "name": "stdout",
     "output_type": "stream",
     "text": [
      "The length of word is:  7\n"
     ]
    }
   ],
   "source": [
    "# Checking the length of list\n",
    "print(\"The length of word is: \", len(OS_list))"
   ]
  },
  {
   "cell_type": "code",
   "execution_count": 40,
   "id": "bb2d24ee-d424-49b3-8bfe-4509c11b3ba3",
   "metadata": {},
   "outputs": [
    {
     "name": "stdout",
     "output_type": "stream",
     "text": [
      "<class 'list'>\n"
     ]
    }
   ],
   "source": [
    "# Checking the data types\n",
    "print(type(OS_list))"
   ]
  },
  {
   "cell_type": "code",
   "execution_count": 34,
   "id": "ceb09fdb-3100-4817-bd82-7aa0162ebc87",
   "metadata": {},
   "outputs": [
    {
     "name": "stdout",
     "output_type": "stream",
     "text": [
      "Print your favourite OS:  Ubuntu\n"
     ]
    }
   ],
   "source": [
    "# Indexing\n",
    "print(\"Print your favourite OS: \", OS_list[1])"
   ]
  },
  {
   "cell_type": "code",
   "execution_count": 38,
   "id": "81762370-c802-49de-aea8-d705b175d55b",
   "metadata": {},
   "outputs": [
    {
     "name": "stdout",
     "output_type": "stream",
     "text": [
      "Kali, Arch\n"
     ]
    }
   ],
   "source": [
    "# Replace a OS in the word list\n",
    "OS_list_1 = \"Kali, Windows\"\n",
    "updated_OS_list = OS_list_1.replace(\"Windows\", \"Arch\")\n",
    "print(updated_OS_list)"
   ]
  },
  {
   "cell_type": "markdown",
   "id": "a0c129d8-28fc-484d-aaaf-87c91b64d524",
   "metadata": {},
   "source": [
    "### Assignment I:\n",
    "\n",
    "### Print Statements\n",
    "1. Write a Python program to print \"Hello, World!\".\n",
    "2. Print your name using a print statement.\n",
    "3. Print the result of the following math operation: `5 + 7`.\n",
    "\n",
    "### Numbers\n",
    "4. Assign the number `10` to a variable called `a`, and print it.\n",
    "5. Perform the multiplication of `7` and `8`, store the result in a variable called `product`, and print `product`.\n",
    "6. Write a Python program to calculate the area of a rectangle with length `5` and width `3`, and print the result.\n",
    "\n",
    "### Strings\n",
    "7. Assign the string `\"Python\"` to a variable called `language` and print it.\n",
    "8. Concatenate two strings `\"Hello\"` and `\"World\"` with a space in between, and print the result.\n",
    "9. Write a Python program to print the length of the string `\"OpenAI\"`.\n",
    "\n",
    "### Lists\n",
    "10. Create a list with the numbers `1, 2, 3, 4, 5`, and print the list.\n",
    "11. Access and print the third element in the list `[10, 20, 30, 40, 50]`.\n",
    "12. Add the number `6` to the list `[1, 2, 3, 4, 5]`, and print the updated list.\n",
    "13. Remove the number `3` from the list `[1, 2, 3, 4, 5]`, and print the updated list.\n",
    "14. Write a Python program to find and print the sum of all numbers in the list `[4, 8, 15, 16, 23, 42]`.\n",
    "15. Create a list with any 3 string elements of your choice and print the list.\n"
   ]
  },
  {
   "cell_type": "markdown",
   "id": "e43b9139",
   "metadata": {},
   "source": [
    "**2.4 Working with Disctionary**\n",
    "- In Python, dictionaries are mutable data structures that allow you to store key-value pairs. Dictionary can be created using the dict() constructor or curly braces' {}'. Once you have created a dictionary, you can add, remove, or update elements using the methods dict. update(), dict. pop(), and dict."
   ]
  },
  {
   "cell_type": "code",
   "execution_count": 4,
   "id": "3323625c",
   "metadata": {},
   "outputs": [
    {
     "name": "stdout",
     "output_type": "stream",
     "text": [
      "{'Burger': 4, 'Fries': 2, 'Drink': 1}\n",
      "A Burger costs $4.\n"
     ]
    }
   ],
   "source": [
    "# Basic disctionary creation and value accsess\n",
    "menu = {\n",
    "    \"Burger\": 4,\n",
    "    \"Fries\": 2,\n",
    "    \"Drink\": 1\n",
    "}\n",
    "print(menu)\n",
    "print(f\"A Burger costs ${menu['Burger']}.\")"
   ]
  },
  {
   "cell_type": "code",
   "execution_count": 6,
   "id": "d44dd707",
   "metadata": {},
   "outputs": [
    {
     "name": "stdout",
     "output_type": "stream",
     "text": [
      "The capital city of Nepal is Kathmandu.\n"
     ]
    }
   ],
   "source": [
    "# Demonstrates: Using string as keys\n",
    "capitals_cities = {\n",
    "    \"USA\": \"Washington D.C\",\n",
    "    \"Nepal\": \"Kathmandu\",\n",
    "    \"France\": \"Paris\"\n",
    "}\n",
    "print(f\"The capital city of Nepal is {capitals_cities['Nepal']}.\")"
   ]
  },
  {
   "cell_type": "code",
   "execution_count": 9,
   "id": "8afa477c",
   "metadata": {},
   "outputs": [
    {
     "name": "stdout",
     "output_type": "stream",
     "text": [
      "{'Name': 'Krishna Basudev Yadav', 'id': 12345, 'Department': 'Management of world'}\n"
     ]
    }
   ],
   "source": [
    "# Demonstrates: Adding new keys-value pairs\n",
    "employee = {\n",
    "    \"Name\": \"Krishna Basudev Yadav\",\n",
    "    \"id\": 12345\n",
    "}\n",
    "employee[\"Department\"] = \"Management of world\"\n",
    "print(employee)    "
   ]
  },
  {
   "cell_type": "code",
   "execution_count": 13,
   "id": "4c3fbbea",
   "metadata": {},
   "outputs": [
    {
     "name": "stdout",
     "output_type": "stream",
     "text": [
      "{'the': 2, 'quick': 1, 'brown': 1, 'fox': 1, 'jumps': 1, 'over': 1, 'lazy': 1, 'dog': 1}\n"
     ]
    }
   ],
   "source": [
    "# Word Frequency Counter\n",
    "# Demonstrates: get() method and disctionary building\n",
    "text = \"the quick brown fox jumps over the lazy dog\"\n",
    "word_count = {}\n",
    "for word in text.split():\n",
    "    word_count[word] = word_count.get(word, 0) + 1\n",
    "print(word_count)"
   ]
  },
  {
   "cell_type": "code",
   "execution_count": 16,
   "id": "7e2436cc",
   "metadata": {},
   "outputs": [
    {
     "name": "stdout",
     "output_type": "stream",
     "text": [
      "Jonny not found.\n"
     ]
    }
   ],
   "source": [
    "# Demonstrates: Checking if a key exists\n",
    "phone_book = {\n",
    "    \"Alice\": \"977-1234567890\"\n",
    "}\n",
    "if \"Jonny\" in phone_book:\n",
    "    print(phone_book[\"Jonny\"])\n",
    "else:\n",
    "    print(\"Jonny not found.\")"
   ]
  },
  {
   "cell_type": "code",
   "execution_count": 18,
   "id": "608cb6ec",
   "metadata": {},
   "outputs": [
    {
     "name": "stdout",
     "output_type": "stream",
     "text": [
      "Total stocks: $20\n"
     ]
    }
   ],
   "source": [
    "# Demonstrate: Using values() method \n",
    "portfolio = {\n",
    "    \"Tesla\": 15,\n",
    "    \"Google\": 5\n",
    "}\n",
    "total_stocks = sum(portfolio.values())\n",
    "print(f\"Total stocks: ${total_stocks}\")"
   ]
  },
  {
   "cell_type": "code",
   "execution_count": 19,
   "id": "c1b10625",
   "metadata": {},
   "outputs": [
    {
     "name": "stdout",
     "output_type": "stream",
     "text": [
      "Title:Inception\n",
      "Director:Nolan\n",
      "Year:2010\n"
     ]
    }
   ],
   "source": [
    "# Demonstrates: items() method for iteration\n",
    "movie = {\n",
    "    \"Title\": \"Inception\",\n",
    "    \"Director\": \"Nolan\",\n",
    "    \"Year\": 2010\n",
    "}\n",
    "for key,value in movie.items():\n",
    "    print(f\"{key}:{value}\")"
   ]
  },
  {
   "cell_type": "code",
   "execution_count": 20,
   "id": "86ec60d2",
   "metadata": {},
   "outputs": [
    {
     "name": "stdout",
     "output_type": "stream",
     "text": [
      "Sold 12 bananas. Inventory: {'apples': 40, 'orange': 50}\n"
     ]
    }
   ],
   "source": [
    "# Demonstrates: update() and pop() methods\n",
    "inventory = {\n",
    "    \"apples\": 40,\n",
    "    \"bananas\": 12,\n",
    "}\n",
    "inventory.update({\"orange\": 50})\n",
    "sold = inventory.pop(\"bananas\")\n",
    "print(f\"Sold {sold} bananas. Inventory: {inventory}\")"
   ]
  },
  {
   "cell_type": "markdown",
   "id": "221b0e47",
   "metadata": {},
   "source": [
    "**2.5 Working with Boolean**\n",
    "- A boolean is a data type with two possible values: true (1) or false (0)."
   ]
  },
  {
   "cell_type": "code",
   "execution_count": 21,
   "id": "b0be738e",
   "metadata": {},
   "outputs": [
    {
     "name": "stdout",
     "output_type": "stream",
     "text": [
      "Is it raining? False\n",
      "Is it sunny? True\n"
     ]
    }
   ],
   "source": [
    "# 1. Basic Boolean values\n",
    "is_raining = False\n",
    "is_sunny = True\n",
    "print(f\"Is it raining? {is_raining}\")\n",
    "print(f\"Is it sunny? {is_sunny}\")"
   ]
  },
  {
   "cell_type": "code",
   "execution_count": 22,
   "id": "930e86fb",
   "metadata": {},
   "outputs": [
    {
     "name": "stdout",
     "output_type": "stream",
     "text": [
      "Is it a day off? True\n"
     ]
    }
   ],
   "source": [
    "# 2. Boolean Operation\n",
    "is_weekend = True\n",
    "is_holiday = False\n",
    "is_day_off = is_weekend or is_holiday\n",
    "print(f\"Is it a day off? {is_day_off}\")"
   ]
  },
  {
   "cell_type": "code",
   "execution_count": 23,
   "id": "096ddbc1",
   "metadata": {},
   "outputs": [
    {
     "name": "stdout",
     "output_type": "stream",
     "text": [
      "Is 10 less than 15? True\n",
      "Is 10 equal to 15? False\n"
     ]
    }
   ],
   "source": [
    "# 3. Comparision Operators\n",
    "x = 10\n",
    "y = 15\n",
    "is_less_than = x < y\n",
    "is_equal = x == y\n",
    "print(f\"Is {x} less than {y}? {is_less_than}\")\n",
    "print(f\"Is {x} equal to {y}? {is_equal}\")"
   ]
  },
  {
   "cell_type": "code",
   "execution_count": 24,
   "id": "b0170a5b",
   "metadata": {},
   "outputs": [
    {
     "name": "stdout",
     "output_type": "stream",
     "text": [
      "The weather is pleasant.\n"
     ]
    }
   ],
   "source": [
    "# 4. Boolean in control flow\n",
    "temperature = 23\n",
    "if temperature > 30:\n",
    "    print(\"It's hot outside!\")\n",
    "elif temperature < 10:\n",
    "    print(\"It's cold outside!\")\n",
    "else:\n",
    "    print(\"The weather is pleasant.\")"
   ]
  },
  {
   "cell_type": "code",
   "execution_count": 25,
   "id": "d4bbad55",
   "metadata": {},
   "outputs": [
    {
     "name": "stdout",
     "output_type": "stream",
     "text": [
      "True\n",
      "False\n",
      "False\n",
      "True\n"
     ]
    }
   ],
   "source": [
    "# 5. Boolean Conversion\n",
    "print(bool(1))\n",
    "print(bool(0))\n",
    "print(bool(\"\"))\n",
    "print(bool(\"Hello\"))"
   ]
  },
  {
   "cell_type": "markdown",
   "id": "40b7e3e0",
   "metadata": {},
   "source": [
    "**2.6 Working with Tuple**\n",
    "- Python tuples are a type of data structure that is very similar to lists. The main difference between the two is that tuples are immutable, meaning they cannot be changed once they are created. This makes them ideal for storing data that should not be modified, such as database records."
   ]
  },
  {
   "cell_type": "code",
   "execution_count": 26,
   "id": "27833003",
   "metadata": {},
   "outputs": [
    {
     "name": "stdout",
     "output_type": "stream",
     "text": [
      "Point: (2, 4, 6, 8, 10)\n"
     ]
    }
   ],
   "source": [
    "# 1. Creating tuples \n",
    "point = (2, 4, 6, 8, 10)\n",
    "print(f\"Point: {point}\")"
   ]
  },
  {
   "cell_type": "code",
   "execution_count": 28,
   "id": "db818389",
   "metadata": {},
   "outputs": [
    {
     "name": "stdout",
     "output_type": "stream",
     "text": [
      "X cordinates: 8, Y coordinate: 10\n"
     ]
    }
   ],
   "source": [
    "# 2. Tuple unpacking\n",
    "point = (8, 10)\n",
    "x, y = point\n",
    "print(f\"X cordinates: {x}, Y coordinate: {y}\")"
   ]
  },
  {
   "cell_type": "code",
   "execution_count": 29,
   "id": "ea561fe8",
   "metadata": {},
   "outputs": [
    {
     "name": "stdout",
     "output_type": "stream",
     "text": [
      "Screen dimensions: 1920x1080\n"
     ]
    }
   ],
   "source": [
    "# 3. Returning multiple values from a function\n",
    "def get_dimensions():\n",
    "    return (1920, 1080)\n",
    "width, height = get_dimensions()\n",
    "print(f\"Screen dimensions: {width}x{height}\")"
   ]
  },
  {
   "cell_type": "code",
   "execution_count": 32,
   "id": "0bb40fb2",
   "metadata": {},
   "outputs": [
    {
     "name": "stdout",
     "output_type": "stream",
     "text": [
      "Apple stock price: $200\n"
     ]
    }
   ],
   "source": [
    "# 4. Tuples as dictionary keys\n",
    "stock_prices = {\n",
    "    (\"Tesla\", \"2024-08-16\"): 200,\n",
    "    (\"Google\", \"2023-10-15\"): 130\n",
    "}\n",
    "print(f\"Apple stock price: ${stock_prices[('Tesla', '2024-08-16')]}\")"
   ]
  },
  {
   "cell_type": "code",
   "execution_count": 34,
   "id": "deb2ab51",
   "metadata": {},
   "outputs": [
    {
     "name": "stdout",
     "output_type": "stream",
     "text": [
      "('Alice', 30, 'Kathmandu')\n"
     ]
    }
   ],
   "source": [
    "# 5. Immutability of tuples\n",
    "person = (\"Alice\", 30, \"Kathmandu\")\n",
    "# person[1] = 31\n",
    "print(f\"{person}\")"
   ]
  },
  {
   "cell_type": "markdown",
   "id": "eed4293b",
   "metadata": {},
   "source": [
    "**2.7 Working with Sets**\n",
    "- A set is a data collection type used in Python for storing multiple items in a single variable. Sets in Python are unordered and, as such, are not always consistent in the order they get returned. Furthermore, items in the set are immutable — ie. cannot be changed."
   ]
  },
  {
   "cell_type": "code",
   "execution_count": 35,
   "id": "0092f353",
   "metadata": {},
   "outputs": [
    {
     "name": "stdout",
     "output_type": "stream",
     "text": [
      "Unique fruits: {'apple', 'orange', 'mango', 'banana'}\n"
     ]
    }
   ],
   "source": [
    "# 1. Creating sets\n",
    "fruits = {\"apple\", \"banana\", \"orange\", \"mango\", \"banana\", \"orange\"}\n",
    "print(f\"Unique fruits: {fruits}\")\n"
   ]
  },
  {
   "cell_type": "code",
   "execution_count": 38,
   "id": "88d54c9e",
   "metadata": {},
   "outputs": [
    {
     "name": "stdout",
     "output_type": "stream",
     "text": [
      "Union: {1, 2, 3, 4, 5, 6, 7, 8}\n",
      "Intersection: {4, 5}\n",
      "Difference (set1 - set2): {1, 2, 3}\n"
     ]
    }
   ],
   "source": [
    "# 2. Set Operations\n",
    "set1 = {1, 2, 3, 4, 5}\n",
    "set2 = {4, 5, 6, 7, 8}\n",
    "union_set = set1 | set2\n",
    "intersection_set = set1 & set2\n",
    "difference_set = set1 - set2\n",
    "print(f\"Union: {union_set}\")\n",
    "print(f\"Intersection: {intersection_set}\")\n",
    "print(f\"Difference (set1 - set2): {difference_set}\")"
   ]
  },
  {
   "cell_type": "code",
   "execution_count": 41,
   "id": "a5e7feba",
   "metadata": {},
   "outputs": [
    {
     "name": "stdout",
     "output_type": "stream",
     "text": [
      "Is 3 in set?: True\n",
      "Is 6 in set?: False\n"
     ]
    }
   ],
   "source": [
    "# 3. Checking membership\n",
    "numbers = {1, 2, 3, 4, 5}\n",
    "print(f\"Is 3 in set?: {3 in numbers}\")\n",
    "print(f\"Is 6 in set?: {6 in numbers}\")"
   ]
  },
  {
   "cell_type": "code",
   "execution_count": 42,
   "id": "9cebb8c4",
   "metadata": {},
   "outputs": [
    {
     "name": "stdout",
     "output_type": "stream",
     "text": [
      "updated colors: {'yellow', 'blue', 'red'}\n"
     ]
    }
   ],
   "source": [
    "# 4. Adding and removing elements\n",
    "colors = {\"red\", \"green\", \"blue\"}\n",
    "colors.add(\"yellow\")\n",
    "colors.remove(\"green\")\n",
    "print(f\"updated colors: {colors}\")"
   ]
  },
  {
   "cell_type": "code",
   "execution_count": 43,
   "id": "ded2f240",
   "metadata": {},
   "outputs": [
    {
     "name": "stdout",
     "output_type": "stream",
     "text": [
      "Unique numbers: {1, 2, 3, 4, 5, 6}\n"
     ]
    }
   ],
   "source": [
    "# 5. Finding unique elements in a list \n",
    "numbers_list = [1, 2, 2, 3, 3, 4, 4, 5, 5, 6]\n",
    "unique_numbers = set(numbers_list)\n",
    "print(f\"Unique numbers: {unique_numbers}\")"
   ]
  },
  {
   "cell_type": "code",
   "execution_count": null,
   "id": "230c60f6",
   "metadata": {},
   "outputs": [],
   "source": []
  },
  {
   "cell_type": "code",
   "execution_count": null,
   "id": "d522efad",
   "metadata": {},
   "outputs": [],
   "source": []
  },
  {
   "cell_type": "code",
   "execution_count": null,
   "id": "720a33bf",
   "metadata": {},
   "outputs": [],
   "source": []
  },
  {
   "cell_type": "markdown",
   "id": "9a532f41-8be7-4112-9b71-305bb4b3bc14",
   "metadata": {},
   "source": [
    "### List Methods\n",
    "Here are some other common list methods.\n",
    "\n",
    "- list.append(elem) -- adds a single element to the end of the list. Common error: does not return the new list, just modifies the original.\n",
    "- list.insert(index, elem) -- inserts the element at the given index, shifting elements to the right.\n",
    "- list.extend(list2) adds the elements in list2 to the end of the list. Using + or += on a list is similar to using extend().\n",
    "- list.index(elem) -- searches for the given element from the start of the list and returns its index. Throws a ValueError if the element does not appear (use \"in\" to check without a ValueError).\n",
    "- list.remove(elem) -- searches for the first instance of the given element and removes it (throws ValueError if not present)\n",
    "- list.sort() -- sorts the list in place (does not return it). (The sorted() function shown later is preferred.)\n",
    "- list.reverse() -- reverses the list in place (does not return it)\n",
    "- list.pop(index) -- removes and returns the element at the given index. Returns the rightmost element if index is omitted (roughly the opposite of append()).\n",
    "\n",
    "Notice that these are *methods* on a list object, while len() is a function that takes the list (or string or whatever) as an argument."
   ]
  },
  {
   "cell_type": "code",
   "execution_count": 1,
   "id": "dfad1082",
   "metadata": {},
   "outputs": [
    {
     "name": "stdout",
     "output_type": "stream",
     "text": [
      "['apple', 'banana', 'orange']\n"
     ]
    }
   ],
   "source": [
    "# 1. append():\n",
    "fruits = ['apple', 'banana']\n",
    "fruits.append('orange')\n",
    "print(fruits)  # Output: ['apple', 'banana', 'orange']"
   ]
  },
  {
   "cell_type": "code",
   "execution_count": 2,
   "id": "827b6d02",
   "metadata": {},
   "outputs": [
    {
     "name": "stdout",
     "output_type": "stream",
     "text": [
      "[1, 2, 3, 4]\n"
     ]
    }
   ],
   "source": [
    "# 2. insert():\n",
    "numbers = [1, 2, 4]\n",
    "numbers.insert(2, 3)\n",
    "print(numbers)  # Output: [1, 2, 3, 4]"
   ]
  },
  {
   "cell_type": "code",
   "execution_count": 3,
   "id": "50dcdc0d",
   "metadata": {},
   "outputs": [
    {
     "name": "stdout",
     "output_type": "stream",
     "text": [
      "[1, 2, 3, 4, 5, 6]\n"
     ]
    }
   ],
   "source": [
    "# 3. extend():\n",
    "list1 = [1, 2, 3]\n",
    "list2 = [4, 5, 6]\n",
    "list1.extend(list2)\n",
    "print(list1)  # Output: [1, 2, 3, 4, 5, 6]"
   ]
  },
  {
   "cell_type": "code",
   "execution_count": 5,
   "id": "0a151aae",
   "metadata": {},
   "outputs": [
    {
     "name": "stdout",
     "output_type": "stream",
     "text": [
      "1\n"
     ]
    }
   ],
   "source": [
    "# 4. index():\n",
    "colors = ['red', 'green', 'blue']\n",
    "print(colors.index('green'))  # Output: 1"
   ]
  },
  {
   "cell_type": "code",
   "execution_count": 6,
   "id": "49f75916",
   "metadata": {},
   "outputs": [
    {
     "name": "stdout",
     "output_type": "stream",
     "text": [
      "['cat', 'elephant', 'dog']\n"
     ]
    }
   ],
   "source": [
    "# 5. remove():\n",
    "animals = ['cat', 'dog', 'elephant', 'dog']\n",
    "animals.remove('dog')\n",
    "print(animals)  # Output: ['cat', 'elephant', 'dog']"
   ]
  },
  {
   "cell_type": "code",
   "execution_count": 7,
   "id": "8983c596",
   "metadata": {},
   "outputs": [
    {
     "name": "stdout",
     "output_type": "stream",
     "text": [
      "[1, 1, 2, 3, 4, 5, 9]\n"
     ]
    }
   ],
   "source": [
    "# 6. sort():\n",
    "numbers = [3, 1, 4, 1, 5, 9, 2]\n",
    "numbers.sort()\n",
    "print(numbers)  # Output: [1, 1, 2, 3, 4, 5, 9]"
   ]
  },
  {
   "cell_type": "code",
   "execution_count": 8,
   "id": "734c991a",
   "metadata": {},
   "outputs": [
    {
     "name": "stdout",
     "output_type": "stream",
     "text": [
      "['c', 'b', 'a']\n"
     ]
    }
   ],
   "source": [
    "# 7. reverse():\n",
    "letters = ['a', 'b', 'c']\n",
    "letters.reverse()\n",
    "print(letters)  # Output: ['c', 'b', 'a']"
   ]
  },
  {
   "cell_type": "code",
   "execution_count": 9,
   "id": "64c5b184",
   "metadata": {},
   "outputs": [
    {
     "name": "stdout",
     "output_type": "stream",
     "text": [
      "4\n",
      "[1, 2, 3]\n",
      "1\n",
      "[2, 3]\n"
     ]
    }
   ],
   "source": [
    "# 8. pop():\n",
    "stack = [1, 2, 3, 4]\n",
    "popped = stack.pop()\n",
    "print(popped)  # Output: 4\n",
    "print(stack)   # Output: [1, 2, 3]\n",
    "\n",
    "# With index\n",
    "popped_index = stack.pop(0)\n",
    "print(popped_index)  # Output: 1\n",
    "print(stack)         # Output: [2, 3]"
   ]
  }
 ],
 "metadata": {
  "kernelspec": {
   "display_name": "Python 3 (ipykernel)",
   "language": "python",
   "name": "python3"
  },
  "language_info": {
   "codemirror_mode": {
    "name": "ipython",
    "version": 3
   },
   "file_extension": ".py",
   "mimetype": "text/x-python",
   "name": "python",
   "nbconvert_exporter": "python",
   "pygments_lexer": "ipython3",
   "version": "3.11.5"
  }
 },
 "nbformat": 4,
 "nbformat_minor": 5
}
