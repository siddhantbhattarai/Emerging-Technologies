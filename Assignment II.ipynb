{
 "cells": [
  {
   "cell_type": "markdown",
   "id": "f8f12f1c-e365-4cbc-94ef-be25b11b242e",
   "metadata": {},
   "source": [
    "**Assignment II:**\n",
    "\n",
    "### **Dictionary Questions (10 Questions)**\n",
    "\n",
    "1. **Student Grades Dictionary:**\n",
    "   - Create a dictionary to store student names as keys and their grades as values. Write a function to update a student's grade and another function to calculate the average grade of the class.\n",
    "\n",
    "2. **Inventory Management:**\n",
    "   - You run a small store and have a dictionary where the keys are product names and the values are quantities. Write a function to update the quantity of a product after a sale and another to add a new product to the inventory.\n",
    "\n",
    "3. **Phonebook Application:**\n",
    "   - Create a phonebook application where the names of your contacts are keys and their phone numbers are values. Write functions to add a new contact, update an existing contact’s phone number, and search for a contact by name.\n",
    "\n",
    "4. **Library System:**\n",
    "   - You are managing a small library. Create a dictionary where the keys are book titles and the values are the number of copies available. Write a function to lend a book (decrease the count) and another to return a book (increase the count).\n",
    "\n",
    "5. **Currency Conversion:**\n",
    "   - Create a dictionary where the keys are currency codes (e.g., \"USD\", \"EUR\") and the values are the conversion rates to your local currency. Write a function that converts an amount of money from one currency to another.\n",
    "\n",
    "6. **Word Frequency Counter:**\n",
    "   - Write a function that takes a string of text as input and returns a dictionary with each word as a key and the number of times it appears as the value.\n",
    "\n",
    "7. **Employee Salary Management:**\n",
    "   - Create a dictionary with employee names as keys and their salaries as values. Write a function to give a percentage raise to all employees and another to calculate the total payroll of the company.\n",
    "\n",
    "8. **Shopping Cart:**\n",
    "   - Build a shopping cart system where product names are keys and the quantities are values. Write functions to add items to the cart, remove items, and calculate the total number of items in the cart.\n",
    "\n",
    "9. **Flight Reservation System:**\n",
    "   - Create a dictionary to represent flight reservations with passenger names as keys and flight numbers as values. Write a function to update the flight number for a passenger and another to find all passengers on a specific flight.\n",
    "\n",
    "10. **City Population Data:**\n",
    "    - Create a dictionary where city names are keys and their populations are values. Write functions to update the population of a city, find the city with the highest population, and calculate the average population across all cities.\n",
    "\n",
    "### **Boolean Questions (5 Questions)**\n",
    "\n",
    "1. **Traffic Light System:**\n",
    "   - Write a function that simulates a traffic light system, where the light can be either \"red\", \"yellow\", or \"green\". The function should return `True` if it's safe to cross the road (i.e., when the light is green) and `False` otherwise.\n",
    "\n",
    "2. **Login System:**\n",
    "   - Implement a login system where you check if the entered username and password match the stored values. The function should return `True` if the login is successful and `False` if not.\n",
    "\n",
    "3. **Age Verification:**\n",
    "   - Write a function that takes a person's age as input and returns `True` if they are eligible to vote (age 18 or older) and `False` otherwise.\n",
    "\n",
    "4. **Security System:**\n",
    "   - Create a security system for a building where a person can only enter if they know the correct password and have the correct ID card. Write a function that returns `True` if both conditions are met and `False` otherwise.\n",
    "\n",
    "5. **Shopping Budget:**\n",
    "   - Write a function that checks if a person can afford to buy a product. The function should take the person's available money and the product's price as inputs and return `True` if they can afford it and `False` otherwise.\n",
    "\n",
    "### **Tuple Questions (5 Questions)**\n",
    "\n",
    "1. **Coordinates System:**\n",
    "   - Write a function that takes two tuples representing coordinates of two points in a 2D space and returns the distance between them.\n",
    "\n",
    "2. **Student Information:**\n",
    "   - Store each student’s information (name, age, and grade) as a tuple. Write a function that takes a list of these tuples and returns the student with the highest grade.\n",
    "\n",
    "3. **Menu Items:**\n",
    "   - Create a tuple for a restaurant menu where each item is represented by a tuple (item name, price). Write a function that displays the menu and allows a customer to select items to order.\n",
    "\n",
    "4. **Product Details:**\n",
    "   - Store product details (name, price, and stock quantity) as tuples in a list. Write a function that takes a product name and returns its details as a tuple.\n",
    "\n",
    "5. **Employee Records:**\n",
    "   - You have a list of employee records, where each record is a tuple containing the employee's name, department, and salary. Write a function that returns the average salary of employees in a given department.\n",
    "\n",
    "### **Set Questions (5 Questions)**\n",
    "\n",
    "1. **Unique Words in Text:**\n",
    "   - Write a function that takes a string of text as input and returns a set of unique words found in the text.\n",
    "\n",
    "2. **Student Enrollment:**\n",
    "   - You have two sets of students enrolled in two different courses. Write a function to find students who are enrolled in both courses (intersection) and students who are enrolled in either course (union).\n",
    "\n",
    "3. **Movie Genres:**\n",
    "   - Create sets representing different movie genres a person likes. Write a function to check if a person likes all genres of a particular movie (subset).\n",
    "\n",
    "4. **Email List Management:**\n",
    "   - You have two sets of email addresses: one for a newsletter and one for promotional emails. Write a function to find emails that are in both lists (intersection) and those that are only in one list (difference).\n",
    "\n",
    "5. **Banned Users:**\n",
    "   - Write a function to manage a set of banned users in a chat application. The function should be able to add a user to the banned set, remove a user, and check if a user is banned.\n"
   ]
  },
  {
   "cell_type": "markdown",
   "id": "e8e36051-3826-4a61-a27a-768cb5200c29",
   "metadata": {},
   "source": [
    "1. **Student Grades Dictionary:**\n",
    "   - Create a dictionary to store student names as keys and their grades as values. Write a function to update a student's grade and another function to calculate the average grade of the class."
   ]
  },
  {
   "cell_type": "code",
   "execution_count": 5,
   "id": "f7995255-f514-4892-abe1-5f5fa61767bb",
   "metadata": {},
   "outputs": [
    {
     "name": "stdout",
     "output_type": "stream",
     "text": [
      "Updated Ram's grade to 85.\n",
      "Updated Shyam's grade to 80.\n",
      "Updated Babu Bhaiya's grade to 95.\n",
      "Updated Hari's grade to 75.\n",
      "\n",
      "Student Grades: {'Ram': 85, 'Shyam': 80, 'Babu Bhaiya': 95, 'Hari': 75}\n",
      "Average Grades of Class:  83.75\n"
     ]
    }
   ],
   "source": [
    "# Initialize the student grades disctionary\n",
    "student_grades = {}\n",
    "\n",
    "def update_grades(name, grade):\n",
    "    student_grades[name] = grade\n",
    "    print(f\"Updated {name}'s grade to {grade}.\")\n",
    "\n",
    "def calculate_average():\n",
    "    if not student_grades:\n",
    "        return 0\n",
    "    return sum(student_grades.values()) / len(student_grades)\n",
    "\n",
    "# Example Usage\n",
    "update_grades(\"Ram\", 85)\n",
    "update_grades(\"Shyam\", 80)\n",
    "update_grades(\"Babu Bhaiya\", 95)\n",
    "update_grades(\"Hari\", 75)\n",
    "\n",
    "print(\"\\nStudent Grades:\", student_grades)\n",
    "print(\"Average Grades of Class: \", calculate_average())"
   ]
  },
  {
   "cell_type": "markdown",
   "id": "98e3b82c-b1d0-4b8c-b85d-f68b90fad81d",
   "metadata": {},
   "source": [
    "2. **Inventory Management:**\n",
    "   - You run a small store and have a dictionary where the keys are product names and the values are quantities. Write a function to update the quantity of a product after a sale and another to add a new product to the inventory."
   ]
  },
  {
   "cell_type": "code",
   "execution_count": 13,
   "id": "4906239b-e878-400a-848c-172a832bd709",
   "metadata": {},
   "outputs": [
    {
     "name": "stdout",
     "output_type": "stream",
     "text": [
      "Starting inventory:  {'apple': 40, 'banana': 30, 'cherry': 50}\n",
      "Sold 10s apple. New quantity: 30\n",
      "Sold 5s banana. New quantity: 25\n",
      "Sold 7s cherry. New quantity: 43\n",
      "Added grape 20. New quantity: 20\n",
      "Added apple 10. New quantity: 40\n",
      "\n",
      "Final Inventory:  {'apple': 40, 'banana': 25, 'cherry': 43, 'grape': 20}\n"
     ]
    }
   ],
   "source": [
    "# Simple inventory dictionary\n",
    "inventory = {\"apple\": 40, \"banana\": 30, \"cherry\": 50}\n",
    "\n",
    "\n",
    "def update_after_sale(product, sold):\n",
    "    if product in inventory:\n",
    "        inventory[product] -= sold\n",
    "        print(f\"Sold {sold}s {product}. New quantity: {inventory[product]}\")\n",
    "    else:\n",
    "        print(f\"{product} not in inventory\")\n",
    "\n",
    "def add_product(product, quantity):\n",
    "    inventory[product] = inventory.get(product, 0) + quantity\n",
    "    print(f\"Added {product} {quantity}. New quantity: {inventory[product]}\")\n",
    "\n",
    "print(\"Starting inventory: \", inventory)\n",
    "\n",
    "update_after_sale(\"apple\", 10)\n",
    "update_after_sale(\"banana\", 5)\n",
    "update_after_sale(\"cherry\", 7)\n",
    "\n",
    "add_product(\"grape\", 20)\n",
    "add_product(\"apple\", 10)\n",
    "\n",
    "print(\"\\nFinal Inventory: \", inventory)\n"
   ]
  },
  {
   "cell_type": "markdown",
   "id": "0e680d05-a66c-4133-ac85-c9216fa48d99",
   "metadata": {},
   "source": [
    "3. **Phonebook Application:**\n",
    "   - Create a phonebook application where the names of your contacts are keys and their phone numbers are values. Write functions to add a new contact, update an existing contact’s phone number, and search for a contact by name."
   ]
  },
  {
   "cell_type": "code",
   "execution_count": 18,
   "id": "eaed854e-b547-48cb-b625-99e4af6c033a",
   "metadata": {},
   "outputs": [
    {
     "name": "stdout",
     "output_type": "stream",
     "text": [
      "\n",
      "Added/Updated: Siddhant: 123-456-7890\n",
      "\n",
      "Added/Updated: Alice: 987-654-321\n",
      "\n",
      "Siddhant's number is 123-456-7890'\n",
      "Babu Bhaiya not found in phonebook.'\n",
      "\n",
      "Added/Updated: Alice: 111-222-3333\n",
      "\n",
      "Added/Updated: Ram: 122-322-4567\n",
      "\n",
      "Full phonebook:\n",
      "Siddhant: 123-456-7890\n",
      "Alice: 111-222-3333\n",
      "Ram: 122-322-4567\n"
     ]
    }
   ],
   "source": [
    "# Simple phonebook disctionary\n",
    "phonebook = {}\n",
    "\n",
    "def add_contact(name, number):\n",
    "    phonebook[name] = number\n",
    "    print(f\"\\nAdded/Updated: {name}: {number}\")\n",
    "\n",
    "def search_contact(name):\n",
    "    if name in phonebook:\n",
    "        print(f\"\\n{name}'s number is {phonebook[name]}'\")\n",
    "    else:\n",
    "        print(f\"{name} not found in phonebook.'\")\n",
    "\n",
    "add_contact(\"Siddhant\", \"123-456-7890\")\n",
    "add_contact(\"Alice\", \"987-654-321\")\n",
    "\n",
    "search_contact(\"Siddhant\")\n",
    "search_contact(\"Babu Bhaiya\")\n",
    "\n",
    "add_contact(\"Alice\", \"111-222-3333\")\n",
    "add_contact(\"Ram\", \"122-322-4567\")\n",
    "\n",
    "print(\"\\nFull phonebook:\")\n",
    "for name, number in phonebook.items():\n",
    "    print(f\"{name}: {number}\")"
   ]
  },
  {
   "cell_type": "markdown",
   "id": "3539cf44-c561-4ecf-a09a-33ad6eb37947",
   "metadata": {},
   "source": [
    "10. **City Population Data:**\n",
    "    - Create a dictionary where city names are keys and their populations are values. Write functions to update the population of a city, find the city with the highest population, and calculate the average population across all cities."
   ]
  },
  {
   "cell_type": "code",
   "execution_count": 22,
   "id": "734a333b-4a3e-45ca-aa02-ed57129826af",
   "metadata": {},
   "outputs": [
    {
     "name": "stdout",
     "output_type": "stream",
     "text": [
      "Initial city populations:  {'KTM': 850000, 'Pokhara': 550000, 'Narayangadh': 270000, 'Butwal': 440000}\n",
      "Updated GoldBazar's population to 250000\n",
      "\n",
      "After updating GoldBazar's population:\n",
      "{'KTM': 850000, 'Pokhara': 550000, 'Narayangadh': 270000, 'Butwal': 440000, 'GoldBazar': 250000}\n",
      "\n",
      "City with highest population: KTM (850000)\n",
      "\n",
      "Average Population: 84\n"
     ]
    }
   ],
   "source": [
    "# city population dictionary\n",
    "city_population = {\n",
    "    \"KTM\": 850000,\n",
    "    \"Pokhara\": 550000,\n",
    "    \"Narayangadh\": 270000,\n",
    "    \"Butwal\": 440000\n",
    "}\n",
    "\n",
    "def update_population(city, population):\n",
    "    city_population[city] = population\n",
    "    print(f\"Updated {city}'s population to {population}\")\n",
    "\n",
    "def find_highest_population():\n",
    "    return max(city_population, key=city_population.get)\n",
    "\n",
    "def calculate_average_population():\n",
    "    return sum(city_population.values()) / len(city_population)\n",
    "\n",
    "print(\"Initial city populations: \", city_population)\n",
    "\n",
    "update_population(\"GoldBazar\", 250000)\n",
    "print(\"\\nAfter updating GoldBazar's population:\")\n",
    "print(city_population)\n",
    "\n",
    "max_population = find_highest_population()\n",
    "print(f\"\\nCity with highest population: {max_population} ({city_population[max_population]})\")\n",
    "\n",
    "avg_population = calculate_average()\n",
    "print(f\"\\nAverage Population: {avg_population:.0f}\")"
   ]
  },
  {
   "cell_type": "code",
   "execution_count": null,
   "id": "d15ee733-0ff8-451e-8376-a3d594a5b141",
   "metadata": {},
   "outputs": [],
   "source": []
  }
 ],
 "metadata": {
  "kernelspec": {
   "display_name": "Python 3 (ipykernel)",
   "language": "python",
   "name": "python3"
  },
  "language_info": {
   "codemirror_mode": {
    "name": "ipython",
    "version": 3
   },
   "file_extension": ".py",
   "mimetype": "text/x-python",
   "name": "python",
   "nbconvert_exporter": "python",
   "pygments_lexer": "ipython3",
   "version": "3.11.5"
  }
 },
 "nbformat": 4,
 "nbformat_minor": 5
}
