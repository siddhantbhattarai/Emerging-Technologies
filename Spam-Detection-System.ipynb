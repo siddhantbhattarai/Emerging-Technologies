{
 "cells": [
  {
   "cell_type": "code",
   "execution_count": 4,
   "id": "0e903166-ab3b-493e-9281-ad403e9739a6",
   "metadata": {},
   "outputs": [],
   "source": [
    "# Importing necessary libraries \n",
    "import pandas as pd\n",
    "import numpy as np\n",
    "import matplotlib.pyplot as plt\n",
    "import seaborn as sns\n",
    "from wordcloud import WordCloud\n",
    "from collections import Counter\n",
    "import nltk\n",
    "import re\n",
    "from sklearn.model_selection import train_test_split\n",
    "from sklearn.feature_extraction.text import TfidfVectorizer\n",
    "from sklearn.naive_bayes import MultinomialNB\n",
    "from sklearn.svm import LinearSVC\n",
    "from sklearn.ensemble import RandomForestClassifier\n",
    "from sklearn.metrics import accuracy_score\n",
    "import joblib"
   ]
  },
  {
   "cell_type": "markdown",
   "id": "5c6e013b-e4b4-445b-9830-5eb25542a34c",
   "metadata": {},
   "source": [
    "- Imports the pandas library for data manipulation and analysis, aliased as 'pd'.\n",
    "- Imports the numpy library for numerical computing, aliased as 'np'.\n",
    "- Imports pyplot module from matplotlib for creating static, animated, and interactive visualizations.\n",
    "- Imports seaborn library for statistical data visualization.\n",
    "- Imports WordCloud class from wordcloud library for creating word cloud visualizations.\n",
    "- Imports Counter class from collections module for counting hashable objects.\n",
    "- Imports the Natural Language Toolkit (NLTK) for natural language processing tasks.\n",
    "- Imports the re module for working with regular expressions.\n",
    "- Imports train_test_split function from scikit-learn for splitting datasets into training and testing sets.\n",
    "- Imports TfidfVectorizer from scikit-learn for converting text to numerical feature vectors.\n",
    "- Imports MultinomialNB (Multinomial Naive Bayes) classifier from scikit-learn.\n",
    "- Imports LinearSVC (Linear Support Vector Classification) from scikit-learn.\n",
    "- Imports RandomForestClassifier from scikit-learn for ensemble learning.\n",
    "- Imports accuracy_score function from scikit-learn to compute classification accuracy.\n",
    "- Imports joblib library for saving and loading Python objects (like machine learning models)."
   ]
  },
  {
   "cell_type": "code",
   "execution_count": null,
   "id": "632f280d-4da1-4d1a-9fed-dcb44b26db6e",
   "metadata": {},
   "outputs": [],
   "source": []
  }
 ],
 "metadata": {
  "kernelspec": {
   "display_name": "Python 3 (ipykernel)",
   "language": "python",
   "name": "python3"
  },
  "language_info": {
   "codemirror_mode": {
    "name": "ipython",
    "version": 3
   },
   "file_extension": ".py",
   "mimetype": "text/x-python",
   "name": "python",
   "nbconvert_exporter": "python",
   "pygments_lexer": "ipython3",
   "version": "3.11.5"
  }
 },
 "nbformat": 4,
 "nbformat_minor": 5
}
